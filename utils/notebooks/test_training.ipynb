{
  "cells": [
    {
      "cell_type": "markdown",
      "metadata": {
        "id": "wSLC68iZdKJQ",
        "colab_type": "text"
      },
      "source": [
        "# Neural Network"
      ]
    },
    {
      "cell_type": "markdown",
      "metadata": {
        "id": "Xt0cmgyjfO_y",
        "colab_type": "text"
      },
      "source": [
        "### Utility functions"
      ]
    },
    {
      "cell_type": "code",
      "metadata": {
        "id": "Jrv6Nta-eK9L",
        "colab_type": "code",
        "colab": {}
      },
      "source": [
        "import json\n",
        "from flair.data import Sentence\n",
        "import progressbar\n",
        "import pickle\n",
        "import sys\n",
        "\n",
        "path_dir = \"/mnt/d/ASE/HLTProject/BioASQ2020\"\n",
        "\n",
        "if path_dir not in sys.path:\n",
        "    sys.path.append(path_dir)\n"
      ],
      "execution_count": 1,
      "outputs": []
    },
    {
      "cell_type": "code",
      "execution_count": 2,
      "metadata": {},
      "outputs": [],
      "source": [
        "from data import load_data_yesno, generate_embeddings_yesno, generate_embeddings_yesno_pooling, load_embeddings"
      ]
    },
    {
      "cell_type": "markdown",
      "metadata": {
        "id": "oAnlqMXhU-P0",
        "colab_type": "text"
      },
      "source": [
        "### Importing training data"
      ]
    },
    {
      "cell_type": "code",
      "metadata": {
        "id": "es76FYAaU94A",
        "colab_type": "code",
        "colab": {}
      },
      "source": [
        "data=load_data_yesno(\"../data/training8b.json\")"
      ],
      "execution_count": 3,
      "outputs": []
    },
    {
      "cell_type": "markdown",
      "metadata": {
        "id": "raWH-BgPWfDN",
        "colab_type": "text"
      },
      "source": [
        "### Creating embedding"
      ]
    },
    {
      "cell_type": "code",
      "metadata": {
        "id": "7jEPsVpSTutc",
        "colab_type": "code",
        "colab": {}
      },
      "source": [
        "from flair.embeddings import ELMoEmbeddings\n",
        "\n",
        "embeddings_elmo_pubmed = ELMoEmbeddings('pubmed') "
      ],
      "execution_count": 4,
      "outputs": []
    },
    {
      "cell_type": "code",
      "metadata": {
        "id": "OXp-qT2_UhpR",
        "colab_type": "code",
        "colab": {}
      },
      "source": [
        "from flair.embeddings import DocumentPoolEmbeddings, Sentence\n",
        "\n",
        "pooling_model = DocumentPoolEmbeddings([embeddings_elmo_pubmed])"
      ],
      "execution_count": 5,
      "outputs": []
    },
    {
      "cell_type": "code",
      "metadata": {
        "id": "92OfYbQUWrEX",
        "colab_type": "code",
        "colab": {}
      },
      "source": [
        "embeddings = generate_embeddings_yesno_pooling(pooling_model, data[0:10])"
      ],
      "execution_count": 6,
      "outputs": [
        {
          "output_type": "stream",
          "name": "stderr",
          "text": "0% |                                                                        | 11% |########                                                                | 22% |################                                                        | 33% |########################                                                | 44% |################################                                        | 55% |########################################                                | 66% |################################################                        | 77% |########################################################                | 88% |################################################################        |100% |########################################################################|100% |########################################################################|\n"
        }
      ]
    },
    {
      "cell_type": "code",
      "metadata": {
        "id": "yvu0Ae3pXyI8",
        "colab_type": "code",
        "outputId": "e461cde6-5be3-47e3-865b-60498feab56b",
        "colab": {
          "base_uri": "https://localhost:8080/",
          "height": 34
        }
      },
      "source": [
        "embeddings[0][0].data"
      ],
      "execution_count": 7,
      "outputs": [
        {
          "output_type": "execute_result",
          "data": {
            "text/plain": "tensor([-0.1104, -0.1032, -0.0877,  ..., -0.3252, -0.6331,  0.4622])"
          },
          "metadata": {},
          "execution_count": 7
        }
      ]
    },
    {
      "cell_type": "markdown",
      "metadata": {
        "id": "ug6bjJ-xZPvW",
        "colab_type": "text"
      },
      "source": [
        "### Train test split"
      ]
    },
    {
      "cell_type": "code",
      "metadata": {
        "id": "3NUMmNX1XY72",
        "colab_type": "code",
        "colab": {}
      },
      "source": [
        "import numpy as np\n",
        "VALIDATION_SPLIT = 0.33"
      ],
      "execution_count": 8,
      "outputs": []
    },
    {
      "cell_type": "code",
      "metadata": {
        "id": "HObSAy-rajvT",
        "colab_type": "code",
        "colab": {}
      },
      "source": [
        "emb_numpy = np.array(embeddings)\n",
        "indices = np.arange(emb_numpy.shape[0])\n",
        "np.random.shuffle(indices)"
      ],
      "execution_count": 9,
      "outputs": []
    },
    {
      "cell_type": "code",
      "metadata": {
        "id": "RENj_12Wai0X",
        "colab_type": "code",
        "colab": {}
      },
      "source": [
        "data = emb_numpy[indices,0::2]\n",
        "labels = np.array(emb_numpy[indices,1], dtype=np.float)\n",
        "nb_validation_samples = int(VALIDATION_SPLIT * data.shape[0])\n",
        "\n",
        "data = np.array([np.concatenate([el[0].data, el[1].data]) for el in data])\n",
        "\n",
        "x_train = data[:-nb_validation_samples]\n",
        "y_train = labels[:-nb_validation_samples]\n",
        "x_val = data[-nb_validation_samples:]\n",
        "y_val = labels[-nb_validation_samples:]"
      ],
      "execution_count": 130,
      "outputs": []
    },
    {
      "cell_type": "code",
      "metadata": {
        "id": "B_G9W3IpaTAi",
        "colab_type": "code",
        "colab": {}
      },
      "source": [
        "# x_train = [np.concatenate([el[0].data, el[1].data]) for el in x_train]\n",
        "# x_train = np.array(x_train, dtype=np.float)\n",
        "# x_train\n"
      ],
      "execution_count": 114,
      "outputs": []
    },
    {
      "cell_type": "markdown",
      "metadata": {
        "id": "hIjMGaiAcLbK",
        "colab_type": "text"
      },
      "source": [
        "## Build the model"
      ]
    },
    {
      "cell_type": "code",
      "execution_count": 131,
      "metadata": {},
      "outputs": [],
      "source": [
        "import tensorflow as tf\n",
        "from tensorflow.keras.models import Sequential\n",
        "from tensorflow.keras.layers import Dense\n",
        "from tensorflow.keras.losses import binary_crossentropy, categorical_crossentropy\n",
        "from tensorflow.python.keras.callbacks import TensorBoard"
      ]
    },
    {
      "cell_type": "code",
      "metadata": {
        "id": "mXnBsdg9cV4m",
        "colab_type": "code",
        "colab": {}
      },
      "source": [
        "HIDDEN_SIZE = 128\n",
        "model = Sequential()\n",
        "\n",
        "model.add(Dense(32, input_dim = 6144, activation= 'relu'))\n",
        "model.add(Dense(1, activation='sigmoid'))"
      ],
      "execution_count": 132,
      "outputs": []
    },
    {
      "cell_type": "code",
      "metadata": {
        "id": "w0rSQNb6d6JR",
        "colab_type": "code",
        "outputId": "6c09c6df-d9e2-40f6-d6c9-df86cda87bba",
        "colab": {
          "base_uri": "https://localhost:8080/",
          "height": 422
        }
      },
      "source": [
        "# from keras.utils import plot_model\n",
        "# plot_model(model, show_shapes=True)"
      ],
      "execution_count": 133,
      "outputs": []
    },
    {
      "cell_type": "code",
      "metadata": {
        "id": "6R3w-5jwpvae",
        "colab_type": "code",
        "colab": {}
      },
      "source": [
        "model.compile(loss='binary_crossentropy',\n",
        "              optimizer='adam',\n",
        "              metrics=['accuracy'])"
      ],
      "execution_count": 134,
      "outputs": []
    },
    {
      "cell_type": "markdown",
      "metadata": {},
      "source": [
        "### In order to display evaluation metrics of our model we create a callback to tensorboard"
      ]
    },
    {
      "cell_type": "code",
      "execution_count": 142,
      "metadata": {},
      "outputs": [],
      "source": [
        "import datetime\n",
        "import os\n",
        "# log_dir = os.path.join(\"..\\logsTB\\\\\"+ datetime.datetime.now().strftime(\"%Y%m%d-%H%M%S\"))\n",
        "log_dir = os.path.join(\"./logsTB/\"+ datetime.datetime.now().strftime(\"%Y%m%d-%H%M%S\"))\n",
        "tensorboard_callback = tf.keras.callbacks.TensorBoard(log_dir=log_dir, histogram_freq=1)"
      ]
    },
    {
      "cell_type": "markdown",
      "metadata": {},
      "source": [
        "### Creating the callback to save the model status every 5 epochs"
      ]
    },
    {
      "cell_type": "code",
      "execution_count": 148,
      "metadata": {},
      "outputs": [],
      "source": [
        "checkpoint_path = \"my_model/model-{epoch:04d}.ckpt\"\n",
        "checkpoint_dir = os.path.dirname(checkpoint_path)"
      ]
    },
    {
      "cell_type": "code",
      "execution_count": 150,
      "metadata": {},
      "outputs": [],
      "source": [
        "cp_callback = tf.keras.callbacks.ModelCheckpoint(\n",
        "    filepath=checkpoint_path, \n",
        "    verbose=1, \n",
        "    save_weights_only=True,\n",
        "    save_freq=5)"
      ]
    },
    {
      "cell_type": "markdown",
      "metadata": {},
      "source": [
        "### Fits the model, saves it every 5 epochs and displays it on tensorboard"
      ]
    },
    {
      "cell_type": "code",
      "execution_count": 152,
      "metadata": {},
      "outputs": [
        {
          "output_type": "stream",
          "name": "stdout",
          "text": "Epoch 1/10\n1/1 [==============================] - 0s 54ms/step - loss: 0.0012 - accuracy: 1.0000 - val_loss: 6.1951e-04 - val_accuracy: 1.0000\nEpoch 2/10\n1/1 [==============================] - 0s 50ms/step - loss: 0.0010 - accuracy: 1.0000 - val_loss: 5.7178e-04 - val_accuracy: 1.0000\nEpoch 3/10\n1/1 [==============================] - 0s 49ms/step - loss: 9.3324e-04 - accuracy: 1.0000 - val_loss: 5.3194e-04 - val_accuracy: 1.0000\nEpoch 4/10\n1/1 [==============================] - 0s 61ms/step - loss: 8.4520e-04 - accuracy: 1.0000 - val_loss: 4.9845e-04 - val_accuracy: 1.0000\nEpoch 5/10\n\nEpoch 00005: saving model to my_model/model-0005.ckpt\n1/1 [==============================] - ETA: 0s - loss: 7.6898e-04 - accuracy: 1.0000WARNING:tensorflow:Method (on_train_batch_end) is slow compared to the batch update (0.218682). Check your callbacks.\n1/1 [==============================] - 0s 49ms/step - loss: 7.6898e-04 - accuracy: 1.0000 - val_loss: 4.7011e-04 - val_accuracy: 1.0000\nEpoch 6/10\n1/1 [==============================] - 0s 51ms/step - loss: 7.0280e-04 - accuracy: 1.0000 - val_loss: 4.4599e-04 - val_accuracy: 1.0000\nEpoch 7/10\n1/1 [==============================] - 0s 52ms/step - loss: 6.4516e-04 - accuracy: 1.0000 - val_loss: 4.2535e-04 - val_accuracy: 1.0000\nEpoch 8/10\n1/1 [==============================] - 0s 51ms/step - loss: 5.9479e-04 - accuracy: 1.0000 - val_loss: 4.0761e-04 - val_accuracy: 1.0000\nEpoch 9/10\n1/1 [==============================] - 0s 48ms/step - loss: 5.5063e-04 - accuracy: 1.0000 - val_loss: 3.9231e-04 - val_accuracy: 1.0000\nEpoch 10/10\n\nEpoch 00010: saving model to my_model/model-0010.ckpt\n1/1 [==============================] - 0s 54ms/step - loss: 5.1178e-04 - accuracy: 1.0000 - val_loss: 3.7906e-04 - val_accuracy: 1.0000\n"
        },
        {
          "output_type": "execute_result",
          "data": {
            "text/plain": "<tensorflow.python.keras.callbacks.History at 0x7fa5d4625290>"
          },
          "metadata": {},
          "execution_count": 152
        }
      ],
      "source": [
        "BATCH_SIZE = 32\n",
        "EPOCHS = 10\n",
        "\n",
        "model.fit(x_train, y_train,\n",
        "          batch_size=BATCH_SIZE,  # default 32\n",
        "          epochs=EPOCHS,\n",
        "          validation_data=(x_val, y_val),\n",
        "          verbose=True,\n",
        "          callbacks=[tensorboard_callback, cp_callback]\n",
        "          )"
      ]
    },
    {
      "cell_type": "markdown",
      "metadata": {},
      "source": [
        "To dislay in our browser results, we need to run the folling command:\n",
        "\n",
        "*tensorboard --logdir _path_selezionato_*\n",
        "\n",
        "It will show on *localhost:6006* \n"
      ]
    },
    {
      "cell_type": "code",
      "execution_count": 144,
      "metadata": {},
      "outputs": [
        {
          "output_type": "stream",
          "name": "stdout",
          "text": "Serving TensorBoard on localhost; to expose to the network, use a proxy or pass --bind_all\nTensorBoard 2.2.1 at http://localhost:6006/ (Press CTRL+C to quit)\n^C\n"
        }
      ],
      "source": [
        "!tensorboard --logdir log_dir"
      ]
    },
    {
      "cell_type": "markdown",
      "metadata": {},
      "source": [
        "## Salvataggio"
      ]
    },
    {
      "cell_type": "code",
      "execution_count": 146,
      "metadata": {},
      "outputs": [],
      "source": [
        "model.save('my_model.h5')"
      ]
    },
    {
      "cell_type": "code",
      "execution_count": null,
      "metadata": {},
      "outputs": [],
      "source": []
    }
  ],
  "metadata": {
    "orig_nbformat": 2,
    "colab": {
      "name": "3_training.ipynb",
      "provenance": [],
      "collapsed_sections": []
    },
    "kernelspec": {
      "name": "python37764bitvenvvenv031d890ec9914b23854115bd70e54a6f",
      "display_name": "Python 3.7.7 64-bit ('venv': venv)"
    }
  },
  "nbformat": 4,
  "nbformat_minor": 0
}