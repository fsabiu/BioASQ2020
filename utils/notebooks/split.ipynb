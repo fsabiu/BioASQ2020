{
 "metadata": {
  "language_info": {
   "codemirror_mode": {
    "name": "ipython",
    "version": 3
   },
   "file_extension": ".py",
   "mimetype": "text/x-python",
   "name": "python",
   "nbconvert_exporter": "python",
   "pygments_lexer": "ipython3",
   "version": "3.7.5-final"
  },
  "orig_nbformat": 2,
  "kernelspec": {
   "name": "python37564bit61209d9bcfea452998e2771b9ee1a7fb",
   "display_name": "Python 3.7.5 64-bit"
  }
 },
 "nbformat": 4,
 "nbformat_minor": 2,
 "cells": [
  {
   "cell_type": "code",
   "execution_count": 61,
   "metadata": {},
   "outputs": [],
   "source": [
    "import json\n",
    "with open(\"training8b.json\", \"r\") as read_file:\n",
    "    data = json.load(read_file)"
   ]
  },
  {
   "cell_type": "code",
   "execution_count": 62,
   "metadata": {},
   "outputs": [],
   "source": [
    "list_question=[elem  for elem in data[\"questions\"] if elem[\"type\"]==\"list\"]\n",
    "factoid_question=[elem  for elem in data[\"questions\"] if elem[\"type\"]==\"factoid\"]\n",
    "yesno_question=[elem  for elem in data[\"questions\"] if elem[\"type\"]==\"yesno\"]"
   ]
  },
  {
   "cell_type": "code",
   "execution_count": 63,
   "metadata": {},
   "outputs": [],
   "source": [
    "perc_test=20\n",
    "multiply=20/100"
   ]
  },
  {
   "cell_type": "code",
   "execution_count": 64,
   "metadata": {
    "tags": []
   },
   "outputs": [
    {
     "output_type": "stream",
     "name": "stdout",
     "text": "Lunghezza list:  644\nLunghezza factoid:  941\nLunghezza yesno:  881\n"
    }
   ],
   "source": [
    "print(\"Lunghezza list: \", len(list_question))\n",
    "print(\"Lunghezza factoid: \", len(factoid_question))\n",
    "print(\"Lunghezza yesno: \", len(yesno_question))"
   ]
  },
  {
   "cell_type": "code",
   "execution_count": 65,
   "metadata": {
    "tags": []
   },
   "outputs": [
    {
     "output_type": "stream",
     "name": "stdout",
     "text": "Lunghezza test list:  128\nLunghezza test factoid:  188\nLunghezza testyesno:  176\n"
    }
   ],
   "source": [
    "test_length_list=int(len(list_question)*multiply)\n",
    "test_length_factoid=int(len(factoid_question)*multiply)\n",
    "test_length_yesno=int(len(yesno_question)*multiply)\n",
    "print(\"Lunghezza test list: \", test_length_list)\n",
    "print(\"Lunghezza test factoid: \", test_length_factoid)\n",
    "print(\"Lunghezza testyesno: \", test_length_yesno)"
   ]
  },
  {
   "cell_type": "code",
   "execution_count": 66,
   "metadata": {},
   "outputs": [],
   "source": [
    "train_list_question=list_question[:-test_length_list]\n",
    "train_factoid_question=factoid_question[:-test_length_factoid]\n",
    "train_yesno_question=yesno_question[:-test_length_yesno]\n",
    "\n",
    "test_list_question=list_question[-test_length_list:]\n",
    "test_factoid_question=factoid_question[-test_length_factoid:]\n",
    "test_yesno_question=yesno_question[-test_length_yesno:]"
   ]
  },
  {
   "cell_type": "code",
   "execution_count": 67,
   "metadata": {
    "tags": []
   },
   "outputs": [
    {
     "output_type": "stream",
     "name": "stdout",
     "text": "Lunghezza list train:  516\nLunghezza list test:  128\nLunghezza factoid train:  753\nLunghezza factoid test:  188\nLunghezza yesno train:  705\nLunghezza yesno test:  176\n"
    }
   ],
   "source": [
    "print(\"Lunghezza list train: \", len(train_list_question))\n",
    "print(\"Lunghezza list test: \", len(test_list_question))\n",
    "print(\"Lunghezza factoid train: \", len(train_factoid_question))\n",
    "print(\"Lunghezza factoid test: \", len(test_factoid_question))\n",
    "print(\"Lunghezza yesno train: \", len(train_yesno_question))\n",
    "print(\"Lunghezza yesno test: \", len(test_yesno_question))"
   ]
  },
  {
   "cell_type": "code",
   "execution_count": 68,
   "metadata": {},
   "outputs": [],
   "source": [
    "training_set={}\n",
    "train_merge_list=train_factoid_question+train_list_question+train_yesno_question\n",
    "training_set[\"questions\"]=train_merge_list"
   ]
  },
  {
   "cell_type": "code",
   "execution_count": 69,
   "metadata": {},
   "outputs": [],
   "source": [
    "test_set={}\n",
    "test_merge_list=test_factoid_question+test_list_question+test_yesno_question\n",
    "test_set[\"questions\"]=test_merge_list"
   ]
  },
  {
   "cell_type": "code",
   "execution_count": 70,
   "metadata": {},
   "outputs": [],
   "source": [
    "with open('train_8b.json', 'w') as outfile:\n",
    "    json.dump(training_set, outfile)"
   ]
  },
  {
   "cell_type": "code",
   "execution_count": 71,
   "metadata": {},
   "outputs": [],
   "source": [
    "with open('test_8b.json', 'w') as outfile:\n",
    "    json.dump(test_set, outfile)"
   ]
  },
  {
   "cell_type": "code",
   "execution_count": null,
   "metadata": {},
   "outputs": [],
   "source": []
  }
 ]
}