{
 "cells": [
  {
   "cell_type": "markdown",
   "metadata": {},
   "source": [
    "Tensorboard, salvataggio e loading di un modello, salvataggio loading checkpoints.\n",
    "Presumibilmente sarebbe utile che per ogni training che si fa si salvi lo stato per tensorboard e si salvi anche il modello in modo da poterlo riutilizzare. Qua si trovano tutte le inoformazioni per questo scopo."
   ]
  },
  {
   "cell_type": "markdown",
   "metadata": {},
   "source": [
    "## TensorBoard"
   ]
  },
  {
   "cell_type": "markdown",
   "metadata": {},
   "source": [
    "Per utilizzare tensorboard è necessario utilizzare keras all'interno di tensoflow. La sintassi non cambia, cambiano solo gli import"
   ]
  },
  {
   "cell_type": "code",
   "execution_count": 93,
   "metadata": {},
   "outputs": [],
   "source": [
    "\n",
    "from tensorflow.keras.models import Sequential\n",
    "from tensorflow.keras.layers import Input, Conv1D, MaxPooling1D, Flatten, AveragePooling1D, LSTM\n",
    "from tensorflow.keras.layers import Dropout, Dense, Activation\n",
    "from tensorflow.keras.losses import binary_crossentropy, categorical_crossentropy\n",
    "from tensorflow.python.keras.callbacks import TensorBoard\n",
    "import tensorflow as tf\n",
    "import numpy as np"
   ]
  },
  {
   "cell_type": "markdown",
   "metadata": {},
   "source": [
    "Instanzioamo un semplice modello una mlp classica"
   ]
  },
  {
   "cell_type": "code",
   "execution_count": 94,
   "metadata": {},
   "outputs": [],
   "source": [
    "x_train=np.array([[1,2,3],[7,8,9],[1,2,3]])\n",
    "y_train=np.array([1,0,1])\n",
    "x_val=np.array([[1,2,3],[7,8,9],[1,2,3]])\n",
    "y_val=np.array([1,0,1])"
   ]
  },
  {
   "cell_type": "code",
   "execution_count": 95,
   "metadata": {},
   "outputs": [],
   "source": [
    "model = Sequential()\n",
    "model.add(Dense(10, activation='relu'))\n",
    "model.add(Dense(10, activation='sigmoid'))\n",
    "model.add(Dense(1, activation='sigmoid'))"
   ]
  },
  {
   "cell_type": "code",
   "execution_count": 96,
   "metadata": {},
   "outputs": [],
   "source": [
    "model.compile(loss='binary_crossentropy',\n",
    "              optimizer='adam',\n",
    "              metrics=['accuracy'])"
   ]
  },
  {
   "cell_type": "markdown",
   "metadata": {},
   "source": [
    "Ora creaiamo il callback per tensorboad. Con os.path.join si crea la directory(Ogni volta che si esegue crea una sottocartella con il timestamp). Dopodichè si crea il callback."
   ]
  },
  {
   "cell_type": "code",
   "execution_count": 97,
   "metadata": {},
   "outputs": [],
   "source": [
    "import datetime\n",
    "import os\n",
    "log_dir = os.path.join(\"..\\logsTB\\\\\"+ datetime.datetime.now().strftime(\"%Y%m%d-%H%M%S\"))\n",
    "tensorboard_callback = tf.keras.callbacks.TensorBoard(log_dir=log_dir, histogram_freq=1)"
   ]
  },
  {
   "cell_type": "markdown",
   "metadata": {},
   "source": [
    "Quando si fitta il modello si deve inserire anche il callback generato prima."
   ]
  },
  {
   "cell_type": "code",
   "execution_count": 98,
   "metadata": {},
   "outputs": [
    {
     "output_type": "stream",
     "name": "stdout",
     "text": "Train on 3 samples, validate on 3 samples\nEpoch 1/20\n3/3 [==============================] - 1s 178ms/sample - loss: 0.6964 - accuracy: 0.6667 - val_loss: 0.6881 - val_accuracy: 0.6667\nEpoch 2/20\n3/3 [==============================] - 0s 10ms/sample - loss: 0.6864 - accuracy: 0.6667 - val_loss: 0.6800 - val_accuracy: 0.6667\nEpoch 3/20\n3/3 [==============================] - 0s 13ms/sample - loss: 0.6810 - accuracy: 0.6667 - val_loss: 0.6711 - val_accuracy: 0.6667\nEpoch 4/20\n3/3 [==============================] - 0s 8ms/sample - loss: 0.6691 - accuracy: 0.6667 - val_loss: 0.6636 - val_accuracy: 0.6667\nEpoch 5/20\n3/3 [==============================] - 0s 10ms/sample - loss: 0.6596 - accuracy: 0.6667 - val_loss: 0.6572 - val_accuracy: 0.6667\nEpoch 6/20\n3/3 [==============================] - 0s 14ms/sample - loss: 0.6551 - accuracy: 0.6667 - val_loss: 0.6498 - val_accuracy: 0.6667\nEpoch 7/20\n3/3 [==============================] - 0s 13ms/sample - loss: 0.6478 - accuracy: 0.6667 - val_loss: 0.6426 - val_accuracy: 0.6667\nEpoch 8/20\n3/3 [==============================] - 0s 15ms/sample - loss: 0.6407 - accuracy: 0.6667 - val_loss: 0.6358 - val_accuracy: 0.6667\nEpoch 9/20\n3/3 [==============================] - 0s 13ms/sample - loss: 0.6365 - accuracy: 0.6667 - val_loss: 0.6287 - val_accuracy: 0.6667\nEpoch 10/20\n3/3 [==============================] - 0s 15ms/sample - loss: 0.6270 - accuracy: 0.6667 - val_loss: 0.6226 - val_accuracy: 0.6667\nEpoch 11/20\n3/3 [==============================] - 0s 13ms/sample - loss: 0.6192 - accuracy: 0.6667 - val_loss: 0.6172 - val_accuracy: 0.6667\nEpoch 12/20\n3/3 [==============================] - 0s 11ms/sample - loss: 0.6156 - accuracy: 0.6667 - val_loss: 0.6112 - val_accuracy: 0.6667\nEpoch 13/20\n3/3 [==============================] - 0s 11ms/sample - loss: 0.6096 - accuracy: 0.6667 - val_loss: 0.6054 - val_accuracy: 0.6667\nEpoch 14/20\n3/3 [==============================] - 0s 11ms/sample - loss: 0.6022 - accuracy: 0.6667 - val_loss: 0.6003 - val_accuracy: 0.6667\nEpoch 15/20\n3/3 [==============================] - 0s 13ms/sample - loss: 0.6011 - accuracy: 0.6667 - val_loss: 0.5941 - val_accuracy: 0.6667\nEpoch 16/20\n3/3 [==============================] - 0s 10ms/sample - loss: 0.5948 - accuracy: 0.6667 - val_loss: 0.5882 - val_accuracy: 0.6667\nEpoch 17/20\n3/3 [==============================] - 0s 11ms/sample - loss: 0.5888 - accuracy: 0.6667 - val_loss: 0.5825 - val_accuracy: 0.6667\nEpoch 18/20\n3/3 [==============================] - 0s 18ms/sample - loss: 0.5812 - accuracy: 0.6667 - val_loss: 0.5775 - val_accuracy: 0.6667\nEpoch 19/20\n3/3 [==============================] - 0s 18ms/sample - loss: 0.5762 - accuracy: 0.6667 - val_loss: 0.5725 - val_accuracy: 0.6667\nEpoch 20/20\n3/3 [==============================] - 0s 12ms/sample - loss: 0.5697 - accuracy: 0.6667 - val_loss: 0.5680 - val_accuracy: 0.6667\n"
    },
    {
     "output_type": "execute_result",
     "data": {
      "text/plain": "<tensorflow.python.keras.callbacks.History at 0x232db173f48>"
     },
     "metadata": {},
     "execution_count": 98
    }
   ],
   "source": [
    "\n",
    "model.fit(x_train, y_train,\n",
    "          batch_size=1,  \n",
    "          epochs=20,\n",
    "          validation_data=(x_val, y_val),\n",
    "          verbose=True,\n",
    "          callbacks=[tensorboard_callback])"
   ]
  },
  {
   "cell_type": "markdown",
   "metadata": {},
   "source": [
    "Per visualizzare la tensorboard di un modello bisogna copiare il path della sua cartella (è possibile selezionare anche una cartella che contiene più di un modello). Sul prompt dei comandi digitare \n",
    "\n",
    "*tensorboard --logdir _path_selezionato_*\n",
    "\n",
    "In seguito andare su localhost:6006 per avviare la visualizzazione"
   ]
  },
  {
   "cell_type": "markdown",
   "metadata": {},
   "source": [
    "## Salvataggio e caricamento di un modello"
   ]
  },
  {
   "cell_type": "markdown",
   "metadata": {},
   "source": [
    "Per il salvataggio e il caricamento di un modello:"
   ]
  },
  {
   "cell_type": "code",
   "execution_count": 102,
   "metadata": {},
   "outputs": [
    {
     "output_type": "stream",
     "name": "stdout",
     "text": "WARNING:tensorflow:Sequential models without an `input_shape` passed to the first layer cannot reload their optimizer state. As a result, your model isstarting with a freshly initialized optimizer.\n"
    }
   ],
   "source": [
    "model.save('my_model.h5') \n",
    "new_model = tf.keras.models.load_model('my_model.h5')"
   ]
  },
  {
   "cell_type": "markdown",
   "metadata": {},
   "source": [
    "## Salvataggio e loading ceckpoint"
   ]
  },
  {
   "cell_type": "markdown",
   "metadata": {},
   "source": [
    "è possibile effettuare il salvataggio ogni tot epoche utile per prendere l'epoca in cui il validation è minimo per esempio"
   ]
  },
  {
   "cell_type": "code",
   "execution_count": 109,
   "metadata": {},
   "outputs": [],
   "source": [
    "checkpoint_path = \"my_model/model-{epoch:04d}.ckpt\"\n",
    "checkpoint_dir = os.path.dirname(checkpoint_path)"
   ]
  },
  {
   "cell_type": "markdown",
   "metadata": {},
   "source": [
    "In questo caso facciamo ogni 5 epoche"
   ]
  },
  {
   "cell_type": "code",
   "execution_count": 110,
   "metadata": {},
   "outputs": [
    {
     "output_type": "stream",
     "name": "stdout",
     "text": "WARNING:tensorflow:`period` argument is deprecated. Please use `save_freq` to specify the frequency in number of samples seen.\n"
    }
   ],
   "source": [
    "cp_callback = tf.keras.callbacks.ModelCheckpoint(\n",
    "    filepath=checkpoint_path, \n",
    "    verbose=1, \n",
    "    save_weights_only=True,\n",
    "    period=5)"
   ]
  },
  {
   "cell_type": "code",
   "execution_count": 111,
   "metadata": {},
   "outputs": [
    {
     "output_type": "stream",
     "name": "stdout",
     "text": "Train on 3 samples, validate on 3 samples\nEpoch 1/10\n3/3 [==============================] - 0s 5ms/sample - loss: 0.5342 - accuracy: 0.6667 - val_loss: 0.5326 - val_accuracy: 0.6667\nEpoch 2/10\n3/3 [==============================] - 0s 5ms/sample - loss: 0.5326 - accuracy: 0.6667 - val_loss: 0.5310 - val_accuracy: 0.6667\nEpoch 3/10\n3/3 [==============================] - 0s 5ms/sample - loss: 0.5310 - accuracy: 0.6667 - val_loss: 0.5294 - val_accuracy: 0.6667\nEpoch 4/10\n3/3 [==============================] - 0s 5ms/sample - loss: 0.5294 - accuracy: 0.6667 - val_loss: 0.5278 - val_accuracy: 0.6667\nEpoch 5/10\n\nEpoch 00005: saving model to my_model/model-0005.ckpt\n3/3 [==============================] - 0s 15ms/sample - loss: 0.5278 - accuracy: 0.6667 - val_loss: 0.5262 - val_accuracy: 0.6667\nEpoch 6/10\n3/3 [==============================] - 0s 4ms/sample - loss: 0.5262 - accuracy: 0.6667 - val_loss: 0.5246 - val_accuracy: 0.6667\nEpoch 7/10\n3/3 [==============================] - 0s 5ms/sample - loss: 0.5246 - accuracy: 0.6667 - val_loss: 0.5231 - val_accuracy: 0.6667\nEpoch 8/10\n3/3 [==============================] - 0s 4ms/sample - loss: 0.5231 - accuracy: 0.6667 - val_loss: 0.5215 - val_accuracy: 0.6667\nEpoch 9/10\n3/3 [==============================] - 0s 4ms/sample - loss: 0.5215 - accuracy: 0.6667 - val_loss: 0.5200 - val_accuracy: 0.6667\nEpoch 10/10\n\nEpoch 00010: saving model to my_model/model-0010.ckpt\n3/3 [==============================] - 0s 15ms/sample - loss: 0.5200 - accuracy: 0.6667 - val_loss: 0.5185 - val_accuracy: 0.6667\n"
    },
    {
     "output_type": "execute_result",
     "data": {
      "text/plain": "<tensorflow.python.keras.callbacks.History at 0x232df427b48>"
     },
     "metadata": {},
     "execution_count": 111
    }
   ],
   "source": [
    "model.save_weights(checkpoint_path.format(epoch=0))\n",
    "model.fit(x_train, \n",
    "          y_train,  \n",
    "          epochs=10,\n",
    "          validation_data=(x_val,y_val),\n",
    "          callbacks=[cp_callback])"
   ]
  },
  {
   "cell_type": "markdown",
   "metadata": {},
   "source": [
    "Questo è per prendere un determinato checkpoint"
   ]
  },
  {
   "cell_type": "code",
   "execution_count": 117,
   "metadata": {},
   "outputs": [
    {
     "output_type": "execute_result",
     "data": {
      "text/plain": "<tensorflow.python.training.tracking.util.CheckpointLoadStatus at 0x232dde98ac8>"
     },
     "metadata": {},
     "execution_count": 117
    }
   ],
   "source": [
    "model.load_weights('my_model/model-0000.ckpt')"
   ]
  }
 ],
 "metadata": {
  "language_info": {
   "codemirror_mode": {
    "name": "ipython",
    "version": 3
   },
   "file_extension": ".py",
   "mimetype": "text/x-python",
   "name": "python",
   "nbconvert_exporter": "python",
   "pygments_lexer": "ipython3",
   "version": "3.7.5-final"
  },
  "orig_nbformat": 2,
  "kernelspec": {
   "name": "python37564bit61209d9bcfea452998e2771b9ee1a7fb",
   "display_name": "Python 3.7.5 64-bit"
  }
 },
 "nbformat": 4,
 "nbformat_minor": 2
}