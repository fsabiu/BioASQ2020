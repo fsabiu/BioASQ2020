{
 "cells": [
  {
   "cell_type": "code",
   "execution_count": 1,
   "metadata": {},
   "outputs": [],
   "source": [
    "from data import load_embeddings, load_data_yesno\n",
    "from flair.embeddings import BertEmbeddings\n",
    "import progressbar"
   ]
  },
  {
   "cell_type": "code",
   "execution_count": 2,
   "metadata": {},
   "outputs": [],
   "source": [
    "data=load_data_yesno(\"./data/training8b.json\")"
   ]
  },
  {
   "cell_type": "code",
   "execution_count": 3,
   "metadata": {},
   "outputs": [
    {
     "output_type": "stream",
     "name": "stderr",
     "text": "100%|██████████| 374434792/374434792 [03:58<00:00, 1569396.12B/s]\n"
    }
   ],
   "source": [
    "from flair.embeddings import ELMoEmbeddings\n",
    "\n",
    "embeddings_elmo_pubmed = ELMoEmbeddings('pubmed') "
   ]
  },
  {
   "cell_type": "code",
   "execution_count": 30,
   "metadata": {},
   "outputs": [
    {
     "output_type": "stream",
     "name": "stdout",
     "text": "tensor([ 0.3993, -0.0020,  0.0537,  ..., -0.6268,  0.0116, -0.6235])\ntensor([ 0.3993, -0.0020,  0.0537,  ..., -1.9950, -0.4264,  0.1391])\n"
    }
   ],
   "source": [
    "frase=Sentence(\"ciao ciao\")\n",
    "embeddings_elmo_pubmed.embed(frase)\n",
    "for token in frase:\n",
    "  print(token.embedding)"
   ]
  },
  {
   "cell_type": "code",
   "execution_count": 31,
   "metadata": {},
   "outputs": [],
   "source": [
    "from flair.embeddings import DocumentPoolEmbeddings, Sentence\n",
    "\n",
    "pooling_model = DocumentPoolEmbeddings([embeddings_elmo_pubmed])"
   ]
  },
  {
   "cell_type": "code",
   "execution_count": 75,
   "metadata": {},
   "outputs": [],
   "source": [
    "from data import generate_embeddings_yesno_pooling"
   ]
  },
  {
   "cell_type": "code",
   "execution_count": 76,
   "metadata": {},
   "outputs": [
    {
     "output_type": "stream",
     "name": "stderr",
     "text": "100% (1 of 1) |##########################| Elapsed Time: 0:00:04 ETA:  00:00:00"
    }
   ],
   "source": [
    "embeddings=generate_embeddings_yesno_pooling(pooling_model, data[0:2], filename=\"./esempio_pooling.emb\")"
   ]
  },
  {
   "cell_type": "code",
   "execution_count": 77,
   "metadata": {},
   "outputs": [],
   "source": [
    "training=load_embeddings(\"esempio_pooling.emb\")"
   ]
  },
  {
   "cell_type": "code",
   "execution_count": 78,
   "metadata": {},
   "outputs": [
    {
     "output_type": "execute_result",
     "data": {
      "text/plain": "tensor([ 0.1233, -0.0289, -0.0175,  ...,  0.1109, -0.2691, -0.7772],\n       requires_grad=True)"
     },
     "metadata": {},
     "execution_count": 78
    }
   ],
   "source": [
    "training[1][2]"
   ]
  },
  {
   "cell_type": "code",
   "execution_count": null,
   "metadata": {},
   "outputs": [],
   "source": []
  }
 ],
 "metadata": {
  "language_info": {
   "codemirror_mode": {
    "name": "ipython",
    "version": 3
   },
   "file_extension": ".py",
   "mimetype": "text/x-python",
   "name": "python",
   "nbconvert_exporter": "python",
   "pygments_lexer": "ipython3",
   "version": "3.7.5-final"
  },
  "orig_nbformat": 2,
  "kernelspec": {
   "name": "python37564bit61209d9bcfea452998e2771b9ee1a7fb",
   "display_name": "Python 3.7.5 64-bit"
  }
 },
 "nbformat": 4,
 "nbformat_minor": 2
}