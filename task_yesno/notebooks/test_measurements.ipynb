{
 "cells": [
  {
   "cell_type": "markdown",
   "metadata": {},
   "source": [
    "# Misure per il test"
   ]
  },
  {
   "cell_type": "markdown",
   "metadata": {},
   "source": [
    "Per le Yes&No ci sono 2 misure che dobbiamo rilevare:\n",
    "* Accuracy\n",
    "* macro-averaged F-measure\n",
    "Riporto un esempio di risultati ottenuti e del calcolo delle 2 misure\n"
   ]
  },
  {
   "cell_type": "code",
   "execution_count": 26,
   "metadata": {},
   "outputs": [],
   "source": [
    "predicted=[1,0,1,1,0,1,0,1,0,1]\n",
    "target=[0,0,0,0,1,0,0,0,0,1]"
   ]
  },
  {
   "cell_type": "markdown",
   "metadata": {},
   "source": [
    "## Accuracy\n",
    "\n",
    "$ accuracy=risposte corrette/totale domande$"
   ]
  },
  {
   "cell_type": "code",
   "execution_count": 27,
   "metadata": {},
   "outputs": [
    {
     "output_type": "execute_result",
     "data": {
      "text/plain": "0.4"
     },
     "metadata": {},
     "execution_count": 27
    }
   ],
   "source": [
    "from sklearn.metrics import accuracy_score\n",
    "accuracy_score(target,predicted)"
   ]
  },
  {
   "cell_type": "markdown",
   "metadata": {},
   "source": [
    "## Macro Averaged F-measure\n",
    "\n",
    "Questa Misura si basa sulla F measure per le risposte yes e la f measure per le risposte no\n",
    "$$m a F_{1}=\\frac{F_{1} y+F_{1} n}{2}$$\n",
    "\n",
    "In generale una F measure è calcolata con la seguente formula:\n",
    "\n",
    "$$F_{1}=2 \\cdot \\frac{ precision \\cdot recall }{ precision + recall }$$\n",
    "\n"
   ]
  },
  {
   "cell_type": "code",
   "execution_count": 30,
   "metadata": {},
   "outputs": [
    {
     "output_type": "execute_result",
     "data": {
      "text/plain": "0.375"
     },
     "metadata": {},
     "execution_count": 30
    }
   ],
   "source": [
    "from sklearn.metrics import f1_score\n",
    "\n",
    "f1_y=f1_score(target, predicted, average='binary', pos_label=1)\n",
    "f1_n=f1_score(target, predicted, average='binary', pos_label=0)\n",
    "(f1_y+f1_n)/2"
   ]
  },
  {
   "cell_type": "markdown",
   "metadata": {},
   "source": [
    "## Summary\n",
    "Di seguito la funzione da esportare in modo da avere tutte le metriche necessarie per la valutazione in una sola chiamata"
   ]
  },
  {
   "cell_type": "code",
   "execution_count": 24,
   "metadata": {},
   "outputs": [],
   "source": [
    "from sklearn.metrics import accuracy_score, f1_score\n",
    "\n",
    "def evaluate_yes_no(predicted, target):\n",
    "    accuracy=accuracy_score(y_true=target, y_pred=predicted)\n",
    "\n",
    "    f1_y=f1_score(y_true=target, y_pred=predicted, average='binary', pos_label=1)\n",
    "    f1_n=f1_score(y_true=target, y_pred=predicted, average='binary', pos_label=0)\n",
    "    macro_average_f_measure=(f1_y+f1_n)/2\n",
    "\n",
    "    return {'accuracy':accuracy,'macro_average_f_measure':macro_average_f_measure}\n"
   ]
  },
  {
   "cell_type": "code",
   "execution_count": 25,
   "metadata": {},
   "outputs": [
    {
     "output_type": "execute_result",
     "data": {
      "text/plain": "{'accuracy': 0.4, 'macro_average_f_measure': 0.375}"
     },
     "metadata": {},
     "execution_count": 25
    }
   ],
   "source": [
    "evaluate_yes_no(predicted=predicted,target=target)"
   ]
  }
 ],
 "metadata": {
  "language_info": {
   "codemirror_mode": {
    "name": "ipython",
    "version": 3
   },
   "file_extension": ".py",
   "mimetype": "text/x-python",
   "name": "python",
   "nbconvert_exporter": "python",
   "pygments_lexer": "ipython3",
   "version": "3.7.5-final"
  },
  "orig_nbformat": 2,
  "kernelspec": {
   "name": "python37564bit61209d9bcfea452998e2771b9ee1a7fb",
   "display_name": "Python 3.7.5 64-bit"
  }
 },
 "nbformat": 4,
 "nbformat_minor": 2
}