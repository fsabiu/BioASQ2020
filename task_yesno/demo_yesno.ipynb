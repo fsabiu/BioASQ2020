{
 "metadata": {
  "language_info": {
   "codemirror_mode": {
    "name": "ipython",
    "version": 3
   },
   "file_extension": ".py",
   "mimetype": "text/x-python",
   "name": "python",
   "nbconvert_exporter": "python",
   "pygments_lexer": "ipython3",
   "version": "3.7.7-final"
  },
  "orig_nbformat": 2,
  "kernelspec": {
   "name": "python_defaultSpec_1599148935020",
   "display_name": "Python 3.7.7 64-bit ('venv': venv)"
  }
 },
 "nbformat": 4,
 "nbformat_minor": 2,
 "cells": [
  {
   "cell_type": "markdown",
   "metadata": {},
   "source": [
    "# Demo YesNo"
   ]
  },
  {
   "cell_type": "markdown",
   "metadata": {},
   "source": [
    "### Testing the model by printing question, predicted answer and correct answer"
   ]
  },
  {
   "cell_type": "code",
   "execution_count": 1,
   "metadata": {},
   "outputs": [],
   "source": [
    "from train_yesno import execute_yesno\n",
    "from utils.data import load_data, generate_embeddings_yesno_pooling\n",
    "from random import randint\n",
    "from flair.embeddings import ELMoEmbeddings, DocumentPoolEmbeddings\n",
    "from functions_yesno import model_creation, enconde_dataset\n",
    "import tensorflow as tf"
   ]
  },
  {
   "cell_type": "code",
   "execution_count": 2,
   "metadata": {},
   "outputs": [],
   "source": [
    "# importing test set\n",
    "dataset_path = \"../data/test_8b.json\"\n",
    "data = load_data(dataset_path, \"yesno\")\n"
   ]
  },
  {
   "cell_type": "code",
   "execution_count": 3,
   "metadata": {},
   "outputs": [
    {
     "output_type": "execute_result",
     "data": {
      "text/plain": "'Is there a link between nuclear position and DNA repair pathway choice?'"
     },
     "metadata": {},
     "execution_count": 3
    }
   ],
   "source": [
    "index = randint(0, len(data)-1)\n",
    "question = data[index][0]\n",
    "question"
   ]
  },
  {
   "cell_type": "code",
   "execution_count": 4,
   "metadata": {
    "tags": []
   },
   "outputs": [
    {
     "output_type": "stream",
     "name": "stderr",
     "text": "100% |                                                                        |100% |                                                                        |100% |                                                                        |\n"
    }
   ],
   "source": [
    "embedding = generate_embeddings_yesno_pooling(DocumentPoolEmbeddings([ELMoEmbeddings('pubmed')]), [data[index]])\n",
    "q, a = enconde_dataset(embedding)"
   ]
  },
  {
   "cell_type": "code",
   "execution_count": 14,
   "metadata": {},
   "outputs": [],
   "source": [
    "# Create a new model instance\n",
    "model = model_creation(2, 150, 'relu', 1e-5, tf.keras.optimizers.RMSprop, len(q[0]))\n",
    "\n",
    "# Restore the weights\n",
    "model.load_weights('./final_model.h5')\n"
   ]
  },
  {
   "cell_type": "code",
   "execution_count": 16,
   "metadata": {
    "tags": []
   },
   "outputs": [],
   "source": [
    "y_pred = model.predict_classes(q)"
   ]
  },
  {
   "cell_type": "markdown",
   "metadata": {},
   "source": [
    "## Printing the answer"
   ]
  },
  {
   "cell_type": "code",
   "execution_count": 17,
   "metadata": {},
   "outputs": [
    {
     "output_type": "execute_result",
     "data": {
      "text/plain": "array([[1]], dtype=int32)"
     },
     "metadata": {},
     "execution_count": 17
    }
   ],
   "source": [
    "# Predicted\n",
    "y_pred"
   ]
  },
  {
   "cell_type": "code",
   "execution_count": 18,
   "metadata": {},
   "outputs": [
    {
     "output_type": "execute_result",
     "data": {
      "text/plain": "array([1])"
     },
     "metadata": {},
     "execution_count": 18
    }
   ],
   "source": [
    "# Correct answer\n",
    "a"
   ]
  }
 ]
}