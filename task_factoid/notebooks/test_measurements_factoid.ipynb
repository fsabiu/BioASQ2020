{
 "cells": [
  {
   "cell_type": "markdown",
   "metadata": {},
   "source": [
    "# Misure per il test\n",
    "Per ogni domanda factoid è necessario restituire una lista di 5 entità in ordine decrescente di confidenza. Le misure con cui valutare sono 3\n",
    "* strict accuracy (SAcc) \n",
    "* lenient accuracy (LAcc)\n",
    "* mean reciprocal rank\n",
    "\n",
    "Citando il documento:\n",
    "*Strict accuracy* counts a question as correctly answered if the golden entity name (or a synonym of that name) is the first element of the list returned by the system. By contrast, *lenient accuracy*\n",
    "counts a question as correctly answered if the golden entity name (or synonym ) is included, not necessarily as the first element, in the list returned by the system.\n",
    "\n",
    "$S A c c=\\frac{c_{1}}{n}$\n",
    "$L A c c=\\frac{c_{5}}{n}$\n",
    "\n",
    "Dove c1 è il numero di domande in cui la prima risposta coincide con l'esatta e c5 è il numero di domande in cui la risposta esatta è contenuta nella lista di 5 entità fornita.\n",
    "\n",
    "Per quanto riguarda il mean reciprocal rank\n",
    "Citando il documento:\n",
    "for each factoid question $q_{i}$ we search the returned list looking for the topmost position that contains the golden entity name (or one of its synonyms). If the topmost position is the $j$ -th one, then $r(i)=j ;$ otherwise $r(i) \\rightarrow+\\infty,$ i.e., $\\frac{1}{r(i)}=0$\n",
    "\n",
    "$M R R=\\frac{1}{n} \\cdot \\sum_{i=1}^{n} \\frac{1}{r(i)}$\n",
    "\n"
   ]
  },
  {
   "cell_type": "markdown",
   "metadata": {},
   "source": [
    "Facciamo un esempio di due vettori"
   ]
  },
  {
   "cell_type": "code",
   "execution_count": 27,
   "metadata": {},
   "outputs": [],
   "source": [
    "predicted=[[\"cane\",\"z\",\"z\",\"z\",\"z\"],[\"z\",\"z\",\"z\",\"z\",\"z\"],[\"z\",\"z\",\"cipolla\",\"z\",\"z\"],[\"z\",\"melanzane\",\"z\",\"z\",\"z\"],[\"birra\",\"z\",\"z\",\"z\",\"z\"],[\"z\",\"z\",\"z\",\"calippo\",\"z\"]]\n",
    "target=[\"cane\",\"gatto\",\"cipolla\", \"melanzane\", \"birra\", \"calippo\"]"
   ]
  },
  {
   "cell_type": "markdown",
   "metadata": {},
   "source": [
    "## Accuracy\n"
   ]
  },
  {
   "cell_type": "code",
   "execution_count": 17,
   "metadata": {
    "tags": []
   },
   "outputs": [
    {
     "output_type": "stream",
     "name": "stdout",
     "text": "0.3333333333333333 1.0\n"
    }
   ],
   "source": [
    "c_1=0\n",
    "c_5=0\n",
    "for i,elem in enumerate(target):\n",
    "    if predicted[i][0]==target[i]:\n",
    "        c_1+=1\n",
    "    if target[i] in predicted[i]:\n",
    "        c_5+=1\n",
    "print(c_1/len(target),c_5/len(target))"
   ]
  },
  {
   "cell_type": "markdown",
   "metadata": {},
   "source": [
    "## Mean Reciprocal rank\n",
    "\n"
   ]
  },
  {
   "cell_type": "code",
   "execution_count": 31,
   "metadata": {
    "tags": []
   },
   "outputs": [
    {
     "output_type": "stream",
     "name": "stdout",
     "text": "0.5138888888888888\n"
    }
   ],
   "source": [
    "summation=0\n",
    "for i, elem in enumerate(target):\n",
    "    try:\n",
    "        pos = predicted[i].index(target[i])\n",
    "        summation+=1/(pos+1)\n",
    "    except ValueError:\n",
    "        pass\n",
    "\n",
    "print(summation/len(target))"
   ]
  },
  {
   "cell_type": "markdown",
   "metadata": {},
   "source": [
    "## Funzione finale per accorpare tutte le misure"
   ]
  },
  {
   "cell_type": "code",
   "execution_count": 36,
   "metadata": {
    "tags": []
   },
   "outputs": [],
   "source": [
    "def evaluate_factoid(predicted, target):\n",
    "    c_1=0\n",
    "    c_5=0\n",
    "    rank_sum=0\n",
    "    for i,elem in enumerate(target):\n",
    "        #Accuracy\n",
    "        if predicted[i][0]==target[i]:\n",
    "            c_1+=1\n",
    "        if target[i] in predicted[i]:\n",
    "            c_5+=1\n",
    "\n",
    "        #Mean reciprocal rank\n",
    "        try:\n",
    "            pos = predicted[i].index(target[i])\n",
    "            rank_sum+=1/(pos+1)\n",
    "        except ValueError:\n",
    "            pass\n",
    "\n",
    "    return {\"strict_accuracy\" : c_1/len(target),\"lenient_accuracy\" : c_5/len(target), \"mean_reciprocal_rank\" : rank_sum/len(target)}"
   ]
  },
  {
   "cell_type": "code",
   "execution_count": 37,
   "metadata": {},
   "outputs": [
    {
     "output_type": "execute_result",
     "data": {
      "text/plain": "{'strict_accuracy': 0.3333333333333333,\n 'lenient_accuracy': 0.8333333333333334,\n 'mean_reciprocal_rank': 0.5138888888888888}"
     },
     "metadata": {},
     "execution_count": 37
    }
   ],
   "source": [
    "evaluate_factoid(predicted,target)"
   ]
  }
 ],
 "metadata": {
  "language_info": {
   "codemirror_mode": {
    "name": "ipython",
    "version": 3
   },
   "file_extension": ".py",
   "mimetype": "text/x-python",
   "name": "python",
   "nbconvert_exporter": "python",
   "pygments_lexer": "ipython3",
   "version": "3.7.5-final"
  },
  "orig_nbformat": 2,
  "kernelspec": {
   "name": "python37564bit61209d9bcfea452998e2771b9ee1a7fb",
   "display_name": "Python 3.7.5 64-bit"
  }
 },
 "nbformat": 4,
 "nbformat_minor": 2
}