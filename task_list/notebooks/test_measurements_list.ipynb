{
 "cells": [
  {
   "cell_type": "markdown",
   "metadata": {},
   "source": [
    "# Test list question"
   ]
  },
  {
   "cell_type": "markdown",
   "metadata": {},
   "source": [
    "Le misure utilizzate per la valutazione sulle list question sono le seguenti:\n",
    "\n",
    "* Mean average precision\n",
    "* mean average Recall\n",
    "* mean average F measure\n",
    "\n",
    "$\\begin{aligned} P &=\\frac{T P}{T P+F P} \\\\ R &=\\frac{T P}{T P+F N} \\end{aligned}$\n",
    "\n",
    "$F_{1}=2 \\cdot \\frac{P \\cdot R}{P+R}$\n",
    "\n",
    "Rimane solo da adattare la questione riguardante i sinonimi. Sostituendo eventuali sinonimi nella predizioni o nel target in modo da omologarli"
   ]
  },
  {
   "cell_type": "code",
   "execution_count": 36,
   "metadata": {},
   "outputs": [],
   "source": [
    "\n",
    "predicted = [[\"a\",\"b\",\"a\",\"z\"],[\"z\",\"a\",\"v\",\"b\"],[\"a\",\"b\",\"c\",\"d\"]]\n",
    "target = [[\"a\",\"x\"],[\"a\",\"b\",\"y\"],[\"a\",\"b\",\"c\",\"d\"]]"
   ]
  },
  {
   "cell_type": "code",
   "execution_count": 37,
   "metadata": {},
   "outputs": [],
   "source": [
    "import statistics\n",
    "def evaluate_list(predicted, target):\n",
    "    #no duplicates \n",
    "    #TP in both list\n",
    "    #FP in pred not in target\n",
    "    #FN not in pred in target\n",
    "    precision_list=[]\n",
    "    recall_list=[]\n",
    "    f1_list=[]\n",
    "    for i,sample in enumerate(predicted):\n",
    "        tp=0\n",
    "        fp=0\n",
    "        fn=0\n",
    "        local_pred=set(sample)\n",
    "        local_tar=set(target[i])\n",
    "        union = local_pred.union(local_tar)\n",
    "        for word in union:\n",
    "            if(word in local_pred and word in local_tar):\n",
    "                tp+=1\n",
    "            else:\n",
    "                if(word in local_pred and word not in local_tar):\n",
    "                    fp+=1\n",
    "                else:\n",
    "                    fn+=1\n",
    "        precision=tp/(tp+fp)\n",
    "        recall=tp/(tp+fn)\n",
    "        \n",
    "        precision_list.append(precision)\n",
    "        recall_list.append(recall)\n",
    "        f1_list.append(2*((precision*recall)/(precision+recall)))\n",
    "    \n",
    "    return {\"mean_precison\":statistics.mean(precision_list),\"mean_recall\":statistics.mean(recall_list),\"mean f1\":statistics.mean(f1_list)}\n",
    "    \n",
    "\n",
    "\n",
    "\n",
    "\n"
   ]
  },
  {
   "cell_type": "code",
   "execution_count": 38,
   "metadata": {},
   "outputs": [
    {
     "output_type": "execute_result",
     "data": {
      "text/plain": "{'mean_precison': 0.6111111111111112,\n 'mean_recall': 0.7222222222222222,\n 'mean f1': 0.6571428571428571}"
     },
     "metadata": {},
     "execution_count": 38
    }
   ],
   "source": [
    "evaluate_list(predicted=predicted, target=target)"
   ]
  },
  {
   "cell_type": "code",
   "execution_count": null,
   "metadata": {},
   "outputs": [],
   "source": []
  }
 ],
 "metadata": {
  "language_info": {
   "codemirror_mode": {
    "name": "ipython",
    "version": 3
   },
   "file_extension": ".py",
   "mimetype": "text/x-python",
   "name": "python",
   "nbconvert_exporter": "python",
   "pygments_lexer": "ipython3",
   "version": "3.7.5-final"
  },
  "orig_nbformat": 2,
  "kernelspec": {
   "name": "python37564bit61209d9bcfea452998e2771b9ee1a7fb",
   "display_name": "Python 3.7.5 64-bit"
  }
 },
 "nbformat": 4,
 "nbformat_minor": 2
}