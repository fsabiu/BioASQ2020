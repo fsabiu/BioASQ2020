{
 "cells": [
  {
   "cell_type": "markdown",
   "metadata": {},
   "source": [
    "# Test list question\n"
   ]
  },
  {
   "cell_type": "code",
   "execution_count": 1,
   "metadata": {},
   "outputs": [],
   "source": [
    "from data import load_data_list, clean_synonyms"
   ]
  },
  {
   "cell_type": "code",
   "execution_count": 2,
   "metadata": {},
   "outputs": [],
   "source": [
    "lista_domande=load_data_list(\"./data/training8b.json\")"
   ]
  },
  {
   "cell_type": "code",
   "execution_count": 3,
   "metadata": {},
   "outputs": [
    {
     "output_type": "execute_result",
     "data": {
      "text/plain": "[['epidermal growth factor'],\n ['betacellulin'],\n ['epiregulin'],\n ['heparin-binding epidermal growth factor'],\n ['transforming growth factor-α'],\n ['amphiregulin'],\n ['epigen']]"
     },
     "metadata": {},
     "execution_count": 3
    }
   ],
   "source": [
    "lista_domande[0][1]"
   ]
  },
  {
   "cell_type": "code",
   "execution_count": 4,
   "metadata": {
    "tags": [
     "outputPrepend"
    ]
   },
   "outputs": [],
   "source": [
    "clean_data, dict_syn=clean_synonyms(lista_domande)"
   ]
  },
  {
   "cell_type": "code",
   "execution_count": 5,
   "metadata": {},
   "outputs": [
    {
     "output_type": "execute_result",
     "data": {
      "text/plain": "{'(Dp(11)17/+)',\n 'C57BL/6J',\n 'C58/J',\n 'Grin1',\n 'MALTT',\n 'NR1(neo-/-)',\n 'SYNGAP1',\n 'Shank3-deficient mice',\n 'Tbx1 heterozygous (HT) mice',\n 'Tsc2f/-',\n 'maternal immune activation (MIA) mouse model of gestational poly(IC) exposure'}"
     },
     "metadata": {},
     "execution_count": 5
    }
   ],
   "source": [
    "dict_syn['TS2-neo mouse']"
   ]
  },
  {
   "cell_type": "code",
   "execution_count": null,
   "metadata": {},
   "outputs": [],
   "source": []
  }
 ],
 "metadata": {
  "language_info": {
   "codemirror_mode": {
    "name": "ipython",
    "version": 3
   },
   "file_extension": ".py",
   "mimetype": "text/x-python",
   "name": "python",
   "nbconvert_exporter": "python",
   "pygments_lexer": "ipython3",
   "version": "3.7.5-final"
  },
  "orig_nbformat": 2,
  "kernelspec": {
   "name": "python37564bit61209d9bcfea452998e2771b9ee1a7fb",
   "display_name": "Python 3.7.5 64-bit"
  }
 },
 "nbformat": 4,
 "nbformat_minor": 2
}