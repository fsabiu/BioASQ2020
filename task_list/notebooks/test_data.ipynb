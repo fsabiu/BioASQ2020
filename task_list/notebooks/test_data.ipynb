{
 "cells": [
  {
   "cell_type": "code",
   "execution_count": 1,
   "metadata": {},
   "outputs": [],
   "source": [
    "import json\n",
    "from flair.data import Sentence\n",
    "import progressbar\n",
    "import pickle\n",
    "import sys\n",
    "import csv\n",
    "\n",
    "path_dir = \"D:\\\\Drive\\\\HumanLanguageTechnologies\\\\BioASQ2020\\\\utils\"\n",
    "\n",
    "if path_dir not in sys.path:\n",
    "    sys.path.append(path_dir)"
   ]
  },
  {
   "cell_type": "code",
   "execution_count": 2,
   "metadata": {},
   "outputs": [],
   "source": [
    "from data import load_data, yesNoAugmentation, load_data_list, preProcess"
   ]
  },
  {
   "cell_type": "markdown",
   "metadata": {},
   "source": [
    "Loading YesNo questions"
   ]
  },
  {
   "cell_type": "code",
   "execution_count": 3,
   "metadata": {},
   "outputs": [
    {
     "output_type": "execute_result",
     "data": {
      "text/plain": "['List signaling molecules (ligands) that interact with the receptor EGFR?',\n [['epidermal growth factor'],\n  ['betacellulin'],\n  ['epiregulin'],\n  ['heparin-binding epidermal growth factor'],\n  ['transforming growth factor-Î±'],\n  ['amphiregulin'],\n  ['epigen']],\n ['the epidermal growth factor receptor (EGFR) ligands, such as epidermal growth factor (EGF) and amphiregulin (AREG)',\n  ' EGFR ligands epidermal growth factor (EGF), amphiregulin (AREG) and transforming growth factor alpha (TGFÎ±)',\n  ' EGFR and its ligand EGF ',\n  'Among EGFR ligands, heparin-binding EGF-like growth factor, TGF-Î± and Betacellulin (BTC) are produced in the tumor microenvironment of FDC-S at RNA level. ',\n  '. Plasma amphiregulin (AR), epidermal growth factor (EGF), transforming growth factor-Î±, and heparin binding-EGF were assessed by ELISA in 45 chemorefractory mCRC patients',\n  'Among EGFR ligands, heparin-binding epidermal growth factor (HB-EGF)',\n  ' Of the six known EGFR ligands, transforming growth factor alpha (TGFÎ±) was expressed more highly in triple-negative breast tumors than in tumors of other subtypes.',\n  'the 7 known EGFR ligands (EGF, betacellulin, epiregulin, heparin-binding EGF, transforming growth factor-Î± [TGF-Î±], amphiregulin, and epigen) ',\n  'EGFR ligands based on the two affinity classes: EGF>HB-EGF>TGF-Î±>BTC>EPR>EPG>AR',\n  'In this article, however, we demonstrate that PEPD directly binds to and activates epidermal growth factor receptor (EGFR),',\n  'four EGFR ligands (AR, HB-EGF, TGF-Î±, and EREG) ',\n  'Epidermal growth factor (EGF) family peptides are ligands for the EGF receptor (EGFR). ',\n  'oluble amphiregulin (AR), transforming growth factor alpha (TGFÎ±), neuregulin 2 beta, and epigen stimulate greater EGFR coupling to cell proliferation and DNA synthesis than do EGF, betacellulin, heparin-binding EGF-like growth factor, and epiregulin',\n  'Here, we demonstrate that histamine releases 2 EGFR ligands, amphiregulin and heparin-binding epidermal growth factor-like growth factor (HB-EGF), from airway epithelial cells.',\n  'mammalian EGFR ligands including EGF, TGF-Î± (TGFÎ±), amphiregulin (AREG), heparin-binding EGF-like growth factor (HB-EGF), betacellulin, epiregulin, and epigen.']]"
     },
     "metadata": {},
     "execution_count": 3
    }
   ],
   "source": [
    "lists = load_data_list(\"../../data/training5b.json\")\n",
    "lists[0]"
   ]
  },
  {
   "cell_type": "code",
   "execution_count": 4,
   "metadata": {},
   "outputs": [
    {
     "output_type": "execute_result",
     "data": {
      "text/plain": "True"
     },
     "metadata": {},
     "execution_count": 4
    }
   ],
   "source": [
    "yesno = load_data(\"../../data/training8b.json\", \"yesno\", False)\n",
    "yes = [q for q in yesno if q[1] == \"yes\"]\n",
    "no = [q for q in yesno if q[1] == \"no\"]\n",
    "\n",
    "len(yes) + len(no) == len(yesno)"
   ]
  },
  {
   "cell_type": "code",
   "execution_count": 5,
   "metadata": {},
   "outputs": [
    {
     "output_type": "execute_result",
     "data": {
      "text/plain": "'yes'"
     },
     "metadata": {},
     "execution_count": 5
    }
   ],
   "source": [
    "yesno[0][1]"
   ]
  },
  {
   "cell_type": "code",
   "execution_count": 8,
   "metadata": {},
   "outputs": [
    {
     "output_type": "execute_result",
     "data": {
      "text/plain": "1900"
     },
     "metadata": {},
     "execution_count": 8
    }
   ],
   "source": [
    "moreYesNo = yesNoAugmentation('no', 1900, True)\n",
    "len(moreYesNo)"
   ]
  },
  {
   "cell_type": "code",
   "execution_count": 6,
   "metadata": {},
   "outputs": [
    {
     "output_type": "execute_result",
     "data": {
      "text/plain": "182"
     },
     "metadata": {},
     "execution_count": 6
    }
   ],
   "source": [
    "moreYesNo = yesNoAugmentation('no', -1, False)\n",
    "len(moreYesNo)"
   ]
  },
  {
   "cell_type": "code",
   "execution_count": 5,
   "metadata": {},
   "outputs": [
    {
     "output_type": "execute_result",
     "data": {
      "text/plain": "3351"
     },
     "metadata": {},
     "execution_count": 5
    }
   ],
   "source": [
    "moreYesNoSingleSnippets = yesNoAugmentation('no', -1, True)\n",
    "len(moreYesNoSingleSnippets)"
   ]
  },
  {
   "cell_type": "code",
   "execution_count": 10,
   "metadata": {},
   "outputs": [
    {
     "output_type": "execute_result",
     "data": {
      "text/plain": "(GARS) gene cause CMT2D',\n   'Charcot-Marie-Tooth disease type 2D (CMT2D) is an autosomal-dominant axonal peripheral neuropathy characterized by impaired motor and sensory function in the distal extremities. Mutations in the glycyl-tRNA synthetase (GARS) gene cause CMT2D'],\n  'snippet': {'offsetInBeginSection': 178,\n   'endSection': 'abstract',\n   'document': 'http://www.ncbi.nlm.nih.gov/pubmed/25168514',\n   'offsetInEndSection': 243,\n   'text': 'Mutations in the glycyl-tRNA synthetase (GARS) gene cause CMT2D. ',\n   'beginSection': 'abstract'}},\n {'body': 'Is glycyl-tRNA synthetase gene involved in the development of Charcot-Marie-Tooth disease?',\n  'exact_answer': 'yes',\n  'ideal_answer': ['Dominant mutations in GARS, encoding the essential enzyme glycyl-tRNA synthetase (GlyRS), result in a form of Charcot-Marie-Tooth disease, type 2D (CMT2D), predominantly characterized by lower motor nerve degeneration.',\n   'Charcot-Marie-Tooth disease type 2D (CMT2D) is an autosomal-dominant axonal peripheral neuropathy characterized by impaired motor and sensory function in the distal extremities. Mutations in the glycyl-tRNA synthetase (GARS) gene cause CMT2D',\n   'Charcot-Marie-Tooth disease type 2D (CMT2D) is an autosomal-dominant axonal peripheral neuropathy characterized by impaired motor and sensory function in the distal extremities. Mutations in the glycyl-tRNA synthetase (GARS) gene cause CMT2D',\n   'Charcot-Marie-Tooth disease type 2D (CMT2D) is an autosomal-dominant axonal peripheral neuropathy characterized by impaired motor and sensory function in the distal extremities. Mutations in the glycyl-tRNA synthetase (GARS) gene cause CMT2D',\n   'Charcot-Marie-Tooth disease type 2D (CMT2D) is an autosomal-dominant axonal peripheral neuropathy characterized by impaired motor and sensory function in the distal extremities. Mutations in the glycyl-tRNA synthetase (GARS) gene cause CMT2D',\n   'Charcot-Marie-Tooth disease type 2D (CMT2D) is an autosomal-dominant axonal peripheral neuropathy characterized by impaired motor and sensory function in the distal extremities. Mutations in the glycyl-tRNA synthetase (GARS) gene cause CMT2D'],\n  'snippet': {'offsetInBeginSection': 0,\n   'endSection': 'title',\n   'document': 'http://www.ncbi.nlm.nih.gov/pubmed/16982418',\n   'offsetInEndSection': 112,\n   'text': 'An active dominant mutation of glycyl-tRNA synthetase causes neuropathy in a Charcot-Marie-Tooth 2D mouse model.',\n   'beginSection': 'title'}},\n {'body': 'Is glycyl-tRNA synthetase gene involved in the development of Charcot-Marie-Tooth disease?',\n  'exact_answer': 'yes',\n  'ideal_answer': ['Dominant mutations in GARS, encoding the essential enzyme glycyl-tRNA synthetase (GlyRS), result in a form of Charcot-Marie-Tooth disease, type 2D (CMT2D), predominantly characterized by lower motor nerve degeneration.',\n   'Charcot-Marie-Tooth disease type 2D (CMT2D) is an autosomal-dominant axonal peripheral neuropathy characterized by impaired motor and sensory function in the distal extremities. Mutations in the glycyl-tRNA synthetase (GARS) gene cause CMT2D',\n   'Charcot-Marie-Tooth disease type 2D (CMT2D) is an autosomal-dominant axonal peripheral neuropathy characterized by impaired motor and sensory function in the distal extremities. Mutations in the glycyl-tRNA synthetase (GARS) gene cause CMT2D',\n   'Charcot-Marie-Tooth disease type 2D (CMT2D) is an autosomal-dominant axonal peripheral neuropathy characterized by impaired motor and sensory function in the distal extremities. Mutations in the glycyl-tRNA synthetase (GARS) gene cause CMT2D',\n   'Charcot-Marie-Tooth disease type 2D (CMT2D) is an autosomal-dominant axonal peripheral neuropathy characterized by impaired motor and sensory function in the distal extremities. Mutations in the glycyl-tRNA synthetase (GARS) gene cause CMT2D',\n   'Charcot-Marie-Tooth disease type 2D (CMT2D) is an autosomal-dominant axonal peripheral neuropathy characterized by impaired motor and sensory function in the distal extremities. Mutations in the glycyl-tRNA synthetase (GARS) gene cause CMT2D'],\n  'snippet': {'offsetInBeginSection': 0,\n   'endSection': 'title',\n   'document': 'http://www.ncbi.nlm.nih.gov/pubmed/25420567',\n   'offsetInEndSection': 133,\n   'text': 'A novel mutation in glycyl-tRNA synthetase caused Charcot-Marie-Tooth disease type 2D with facial and respiratory muscle involvement.',\n   'beginSection': 'title'}},\n {'body': 'Is glycyl-tRNA synthetase gene involved in the development of Charcot-Marie-Tooth disease?',\n  'exact_answer': 'yes',\n  'ideal_answer': ['Dominant mutations in GARS, encoding the essential enzyme glycyl-tRNA synthetase (GlyRS), result in a form of Charcot-Marie-Tooth disease, type 2D (CMT2D), predominantly characterized by lower motor nerve degeneration.',\n   'Charcot-Marie-Tooth disease type 2D (CMT2D) is an autosomal-dominant axonal peripheral neuropathy characterized by impaired motor and sensory function in the distal extremities. Mutations in the glycyl-tRNA synthetase (GARS) gene cause CMT2D',\n   'Charcot-Marie-Tooth disease type 2D (CMT2D) is an autosomal-dominant axonal peripheral neuropathy characterized by impaired motor and sensory function in the distal extremities. Mutations in the glycyl-tRNA synthetase (GARS) gene cause CMT2D',\n   'Charcot-Marie-Tooth disease type 2D (CMT2D) is an autosomal-dominant axonal peripheral neuropathy characterized by impaired motor and sensory function in the distal extremities. Mutations in the glycyl-tRNA synthetase (GARS) gene cause CMT2D',\n   'Charcot-Marie-Tooth disease type 2D (CMT2D) is an autosomal-dominant axonal peripheral neuropathy characterized by impaired motor and sensory function in the distal extremities. Mutations in the glycyl-tRNA synthetase (GARS) gene cause CMT2D',\n   'Charcot-Marie-Tooth disease type 2D (CMT2D) is an autosomal-dominant axonal peripheral neuropathy characterized by impaired motor and sensory function in the distal extremities. Mutations in the glycyl-tRNA synthetase (GARS) gene cause CMT2D'],\n  'snippet': {'offsetInBeginSection': 0,\n   'endSection': 'title',\n   'document': 'http://www.ncbi.nlm.nih.gov/pubmed/17545306',\n   'offsetInEndSection': 112,\n   'text': 'Long-range structural effects of a Charcot-Marie-Tooth disease-causing mutation in human glycyl-tRNA synthetase.',\n   'beginSection': 'title'}},\n {'body': 'Is glycyl-tRNA synthetase gene involved in the development of Charcot-Marie-Tooth disease?',\n  'exact_answer': 'yes',\n  'ideal_answer': ['Dominant mutations in GARS, encoding the essential enzyme glycyl-tRNA synthetase (GlyRS), result in a form of Charcot-Marie-Tooth disease, type 2D (CMT2D), predominantly characterized by lower motor nerve degeneration.',\n   'Charcot-Marie-Tooth disease type 2D (CMT2D) is an autosomal-dominant axonal peripheral neuropathy characterized by impaired motor and sensory function in the distal extremities. Mutations in the glycyl-tRNA synthetase (GARS) gene cause CMT2D',\n   'Charcot-Marie-Tooth disease type 2D (CMT2D) is an autosomal-dominant axonal peripheral neuropathy characterized by impaired motor and sensory function in the distal extremities. Mutations in the glycyl-tRNA synthetase (GARS) gene cause CMT2D',\n   'Charcot-Marie-Tooth disease type 2D (CMT2D) is an autosomal-dominant axonal peripheral neuropathy characterized by impaired motor and sensory function in the distal extremities. Mutations in the glycyl-tRNA synthetase (GARS) gene cause CMT2D',\n   'Charcot-Marie-Tooth disease type 2D (CMT2D) is an autosomal-dominant axonal peripheral neuropathy characterized by impaired motor and sensory function in the distal extremities. Mutations in the glycyl-tRNA synthetase (GARS) gene cause CMT2D',\n   'Charcot-Marie-Tooth disease type 2D (CMT2D) is an autosomal-dominant axonal peripheral neuropathy characterized by impaired motor and sensory function in the distal extremities. Mutations in the glycyl-tRNA synthetase (GARS) gene cause CMT2D'],\n  'snippet': {'offsetInBeginSection': 0,\n   'endSection': 'title',\n   'document': 'http://www.ncbi.nlm.nih.gov/pubmed/12690580',\n   'offsetInEndSection': 114,\n   'text': 'Glycyl tRNA synthetase mutations in Charcot-Marie-Tooth disease type 2D and distal spinal muscular atrophy type V.',\n   'beginSection': 'title'}},\n {'body': 'Is glycyl-tRNA synthetase gene involved in the development of Charcot-Marie-Tooth disease?',\n  'exact_answer': 'yes',\n  'ideal_answer': ['Dominant mutations in GARS, encoding the essential enzyme glycyl-tRNA synthetase (GlyRS), result in a form of Charcot-Marie-Tooth disease, type 2D (CMT2D), predominantly characterized by lower motor nerve degeneration.',\n   'Charcot-Marie-Tooth disease type 2D (CMT2D) is an autosomal-dominant axonal peripheral neuropathy characterized by impaired motor and sensory function in the distal extremities. Mutations in the glycyl-tRNA synthetase (GARS) gene cause CMT2D',\n   'Charcot-Marie-Tooth disease type 2D (CMT2D) is an autosomal-dominant axonal peripheral neuropathy characterized by impaired motor and sensory function in the distal extremities. Mutations in the glycyl-tRNA synthetase (GARS) gene cause CMT2D',\n   'Charcot-Marie-Tooth disease type 2D (CMT2D) is an autosomal-dominant axonal peripheral neuropathy characterized by impaired motor and sensory function in the distal extremities. Mutations in the glycyl-tRNA synthetase (GARS) gene cause CMT2D',\n   'Charcot-Marie-Tooth disease type 2D (CMT2D) is an autosomal-dominant axonal peripheral neuropathy characterized by impaired motor and sensory function in the distal extremities. Mutations in the glycyl-tRNA synthetase (GARS) gene cause CMT2D',\n   'Charcot-Marie-Tooth disease type 2D (CMT2D) is an autosomal-dominant axonal peripheral neuropathy characterized by impaired motor and sensory function in the distal extremities. Mutations in the glycyl-tRNA synthetase (GARS) gene cause CMT2D'],\n  'snippet': {'offsetInBeginSection': 0,\n   'endSection': 'abstract',\n   'document': 'http://www.ncbi.nlm.nih.gov/pubmed/22144914',\n   'offsetInEndSection': 164,\n   'text': 'Charcot-Marie-Tooth disease type 2D (CMT2D) is a dominantly inherited peripheral neuropathy caused by missense mutations in the glycyl-tRNA synthetase gene (GARS). ',\n   'beginSection': 'abstract'}},\n {'body': 'Is glycyl-tRNA synthetase gene involved in the development of Charcot-Marie-Tooth disease?',\n  'exact_answer': 'yes',\n  'ideal_answer': ['Dominant mutations in GARS, encoding the essential enzyme glycyl-tRNA synthetase (GlyRS), result in a form of Charcot-Marie-Tooth disease, type 2D (CMT2D), predominantly characterized by lower motor nerve degeneration.',\n   'Charcot-Marie-Tooth disease type 2D (CMT2D) is an autosomal-dominant axonal peripheral neuropathy characterized by impaired motor and sensory function in the distal extremities. Mutations in the glycyl-tRNA synthetase (GARS) gene cause CMT2D',\n   'Charcot-Marie-Tooth disease type 2D (CMT2D) is an autosomal-dominant axonal peripheral neuropathy characterized by impaired motor and sensory function in the distal extremities. Mutations in the glycyl-tRNA synthetase (GARS) gene cause CMT2D',\n   'Charcot-Marie-Tooth disease type 2D (CMT2D) is an autosomal-dominant axonal peripheral neuropathy characterized by impaired motor and sensory function in the distal extremities. Mutations in the glycyl-tRNA synthetase (GARS) gene cause CMT2D',\n   'Charcot-Marie-Tooth disease type 2D (CMT2D) is an autosomal-dominant axonal peripheral neuropathy characterized by impaired motor and sensory function in the distal extremities. Mutations in the glycyl-tRNA synthetase (GARS) gene cause CMT2D',\n   'Charcot-Marie-Tooth disease type 2D (CMT2D) is an autosomal-dominant axonal peripheral neuropathy characterized by impaired motor and sensory function in the distal extremities. Mutations in the glycyl-tRNA synthetase (GARS) gene cause CMT2D'],\n  'snippet': {'offsetInBeginSection': 178,\n   'endSection': 'abstract',\n   'document': 'http://www.ncbi.nlm.nih.gov/pubmed/25168514',\n   'offsetInEndSection': 243,\n   'text': 'Mutations in the glycyl-tRNA synthetase (GARS) gene cause CMT2D. ',\n   'beginSection': 'abstract'}},\n {'body': 'Is glycyl-tRNA synthetase gene involved in the development of Charcot-Marie-Tooth disease?',\n  'exact_answer': 'yes',\n  'ideal_answer': ['Dominant mutations in GARS, encoding the essential enzyme glycyl-tRNA synthetase (GlyRS), result in a form of Charcot-Marie-Tooth disease, type 2D (CMT2D), predominantly characterized by lower motor nerve degeneration.',\n   'Charcot-Marie-Tooth disease type 2D (CMT2D) is an autosomal-dominant axonal peripheral neuropathy characterized by impaired motor and sensory function in the distal extremities. Mutations in the glycyl-tRNA synthetase (GARS) gene cause CMT2D',\n   'Charcot-Marie-Tooth disease type 2D (CMT2D) is an autosomal-dominant axonal peripheral neuropathy characterized by impaired motor and sensory function in the distal extremities. Mutations in the glycyl-tRNA synthetase (GARS) gene cause CMT2D',\n   'Charcot-Marie-Tooth disease type 2D (CMT2D) is an autosomal-dominant axonal peripheral neuropathy characterized by impaired motor and sensory function in the distal extremities. Mutations in the glycyl-tRNA synthetase (GARS) gene cause CMT2D',\n   'Charcot-Marie-Tooth disease type 2D (CMT2D) is an autosomal-dominant axonal peripheral neuropathy characterized by impaired motor and sensory function in the distal extremities. Mutations in the glycyl-tRNA synthetase (GARS) gene cause CMT2D',\n   'Charcot-Marie-Tooth disease type 2D (CMT2D) is an autosomal-dominant axonal peripheral neuropathy characterized by impaired motor and sensory function in the distal extremities. Mutations in the glycyl-tRNA synthetase (GARS) gene cause CMT2D'],\n  'snippet': {'offsetInBeginSection': 0,\n   'endSection': 'title',\n   'document': 'http://www.ncbi.nlm.nih.gov/pubmed/19470612',\n   'offsetInEndSection': 180,\n   'text': 'An ENU-induced mutation in mouse glycyl-tRNA synthetase (GARS) causes peripheral sensory and motor phenotypes creating a model of Charcot-Marie-Tooth type 2D peripheral neuropathy.',\n   'beginSection': 'title'}},\n {'body': 'Is glycyl-tRNA synthetase gene involved in the development of Charcot-Marie-Tooth disease?',\n  'exact_answer': 'yes',\n  'ideal_answer': ['Dominant mutations in GARS, encoding the essential enzyme glycyl-tRNA synthetase (GlyRS), result in a form of Charcot-Marie-Tooth disease, type 2D (CMT2D), predominantly characterized by lower motor nerve degeneration.',\n   'Charcot-Marie-Tooth disease type 2D (CMT2D) is an autosomal-dominant axonal peripheral neuropathy characterized by impaired motor and sensory function in the distal extremities. Mutations in the glycyl-tRNA synthetase (GARS) gene cause CMT2D',\n   'Charcot-Marie-Tooth disease type 2D (CMT2D) is an autosomal-dominant axonal peripheral neuropathy characterized by impaired motor and sensory function in the distal extremities. Mutations in the glycyl-tRNA synthetase (GARS) gene cause CMT2D',\n   'Charcot-Marie-Tooth disease type 2D (CMT2D) is an autosomal-dominant axonal peripheral neuropathy characterized by impaired motor and sensory function in the distal extremities. Mutations in the glycyl-tRNA synthetase (GARS) gene cause CMT2D',\n   'Charcot-Marie-Tooth disease type 2D (CMT2D) is an autosomal-dominant axonal peripheral neuropathy characterized by impaired motor and sensory function in the distal extremities. Mutations in the glycyl-tRNA synthetase (GARS) gene cause CMT2D',\n   'Charcot-Marie-Tooth disease type 2D (CMT2D) is an autosomal-dominant axonal peripheral neuropathy characterized by impaired motor and sensory function in the distal extremities. Mutations in the glycyl-tRNA synthetase (GARS) gene cause CMT2D'],\n  'snippet': {'offsetInBeginSection': 194,\n   'endSection': 'abstract',\n   'document': 'http://www.ncbi.nlm.nih.gov/pubmed/17035524',\n   'offsetInEndSection': 314,\n   'text': 'We previously implicated mutations in the gene encoding glycyl-tRNA synthetase (GARS) as the cause of CMT2D and dSMA-V. ',\n   'beginSection': 'abstract'}},\n {'body': 'Is glycyl-tRNA synthetase gene involved in the development of Charcot-Marie-Tooth disease?',\n  'exact_answer': 'yes',\n  'ideal_answer': ['Dominant mutations in GARS, encoding the essential enzyme glycyl-tRNA synthetase (GlyRS), result in a form of Charcot-Marie-Tooth disease, type 2D (CMT2D), predominantly characterized by lower motor nerve degeneration.',\n   'Charcot-Marie-Tooth disease type 2D (CMT2D) is an autosomal-dominant axonal peripheral neuropathy characterized by impaired motor and sensory function in the distal extremities. Mutations in the glycyl-tRNA synthetase (GARS) gene cause CMT2D',\n   'Charcot-Marie-Tooth disease type 2D (CMT2D) is an autosomal-dominant axonal peripheral neuropathy characterized by impaired motor and sensory function in the distal extremities. Mutations in the glycyl-tRNA synthetase (GARS) gene cause CMT2D',\n   'Charcot-Marie-Tooth disease type 2D (CMT2D) is an autosomal-dominant axonal peripheral neuropathy characterized by impaired motor and sensory function in the distal extremities. Mutations in the glycyl-tRNA synthetase (GARS) gene cause CMT2D',\n   'Charcot-Marie-Tooth disease type 2D (CMT2D) is an autosomal-dominant axonal peripheral neuropathy characterized by impaired motor and sensory function in the distal extremities. Mutations in the glycyl-tRNA synthetase (GARS) gene cause CMT2D',\n   'Charcot-Marie-Tooth disease type 2D (CMT2D) is an autosomal-dominant axonal peripheral neuropathy characterized by impaired motor and sensory function in the distal extremities. Mutations in the glycyl-tRNA synthetase (GARS) gene cause CMT2D'],\n  'snippet': {'offsetInBeginSection': 0,\n   'endSection': 'title',\n   'document': 'http://www.ncbi.nlm.nih.gov/pubmed/16982418',\n   'offsetInEndSection': 112,\n   'text': 'An active dominant mutation of glycyl-tRNA synthetase causes neuropathy in a Charcot-Marie-Tooth 2D mouse model.',\n   'beginSection': 'title'}},\n {'body': 'Is glycyl-tRNA synthetase gene involved in the development of Charcot-Marie-Tooth disease?',\n  'exact_answer': 'yes',\n  'ideal_answer': ['Dominant mutations in GARS, encoding the essential enzyme glycyl-tRNA synthetase (GlyRS), result in a form of Charcot-Marie-Tooth disease, type 2D (CMT2D), predominantly characterized by lower motor nerve degeneration.',\n   'Charcot-Marie-Tooth disease type 2D (CMT2D) is an autosomal-dominant axonal peripheral neuropathy characterized by impaired motor and sensory function in the distal extremities. Mutations in the glycyl-tRNA synthetase (GARS) gene cause CMT2D',\n   'Charcot-Marie-Tooth disease type 2D (CMT2D) is an autosomal-dominant axonal peripheral neuropathy characterized by impaired motor and sensory function in the distal extremities. Mutations in the glycyl-tRNA synthetase (GARS) gene cause CMT2D',\n   'Charcot-Marie-Tooth disease type 2D (CMT2D) is an autosomal-dominant axonal peripheral neuropathy characterized by impaired motor and sensory function in the distal extremities. Mutations in the glycyl-tRNA synthetase (GARS) gene cause CMT2D',\n   'Charcot-Marie-Tooth disease type 2D (CMT2D) is an autosomal-dominant axonal peripheral neuropathy characterized by impaired motor and sensory function in the distal extremities. Mutations in the glycyl-tRNA synthetase (GARS) gene cause CMT2D',\n   'Charcot-Marie-Tooth disease type 2D (CMT2D) is an autosomal-dominant axonal peripheral neuropathy characterized by impaired motor and sensory function in the distal extremities. Mutations in the glycyl-tRNA synthetase (GARS) gene cause CMT2D'],\n  'snippet': {'offsetInBeginSection': 0,\n   'endSection': 'abstract',\n   'document': 'http://www.ncbi.nlm.nih.gov/pubmed/23990368',\n   'offsetInEndSection': 153,\n   'text': 'Charcot-Marie-Tooth disease type 2D is a hereditary axonal and glycyl-tRNA synthetase (GARS)-associated neuropathy that is caused by a mutation in GARS. ',\n   'beginSection': 'abstract'}},\n ...]"
     },
     "metadata": {},
     "execution_count": 10
    }
   ],
   "source": [
    "load_data(\"../../data/training5b.json\", \"yesno\", True)"
   ]
  },
  {
   "cell_type": "code",
   "execution_count": 4,
   "metadata": {},
   "outputs": [],
   "source": [
    "with open(\"../../data/training5b.json\", \"r\", errors = 'ignore') as read_file:\n",
    "        training = json.load(read_file, encoding='utf-8')"
   ]
  },
  {
   "cell_type": "code",
   "execution_count": 24,
   "metadata": {},
   "outputs": [
    {
     "output_type": "execute_result",
     "data": {
      "text/plain": "setInEndSection': 1396,\n     'text': 'These findings show that the newly identified FANCE protein is an integral part of the FA pathway, and support the concept of a functional link between all known proteins encoded by the genes that are mutated in this disorder',\n     'beginSection': 'abstract',\n     'document': 'http://www.ncbi.nlm.nih.gov/pubmed/11157805',\n     'endSection': 'abstract'}]},\n  {'body': 'Are there clinical trials using stem cells for the treatment of cardiac disease?',\n   'documents': ['http://www.ncbi.nlm.nih.gov/pubmed/23746978',\n    'http://www.ncbi.nlm.nih.gov/pubmed/25858066',\n    'http://www.ncbi.nlm.nih.gov/pubmed/25984329',\n    'http://www.ncbi.nlm.nih.gov/pubmed/19804333',\n    'http://www.ncbi.nlm.nih.gov/pubmed/25169179',\n    'http://www.ncbi.nlm.nih.gov/pubmed/23773460',\n    'http://www.ncbi.nlm.nih.gov/pubmed/17198039',\n    'http://www.ncbi.nlm.nih.gov/pubmed/20560035',\n    'http://www.ncbi.nlm.nih.gov/pubmed/20680811',\n    'http://www.ncbi.nlm.nih.gov/pubmed/19907881',\n    'http://www.ncbi.nlm.nih.gov/pubmed/17888423',\n    'http://www.ncbi.nlm.nih.gov/pubmed/21526485',\n    'http://www.ncbi.nlm.nih.gov/pubmed/19022705',\n    'http://www.ncbi.nlm.nih.gov/pubmed/22405796',\n    'http://www.ncbi.nlm.nih.gov/pubmed/15030272',\n    'http://www.ncbi.nlm.nih.gov/pubmed/16969166',\n    'http://www.ncbi.nlm.nih.gov/pubmed/19857353',\n    'http://www.ncbi.nlm.nih.gov/pubmed/25205213',\n    'http://www.ncbi.nlm.nih.gov/pubmed/21749886',\n    'http://www.ncbi.nlm.nih.gov/pubmed/22943934',\n    'http://www.ncbi.nlm.nih.gov/pubmed/19627664',\n    'http://www.ncbi.nlm.nih.gov/pubmed/15692093',\n    'http://www.ncbi.nlm.nih.gov/pubmed/25145464',\n    'http://www.ncbi.nlm.nih.gov/pubmed/18543793',\n    'http://www.ncbi.nlm.nih.gov/pubmed/14647535',\n    'http://www.ncbi.nlm.nih.gov/pubmed/26259288'],\n   'ideal_answer': ['Yes, there exists clinical trials  for cardiac stem cell based treatment.',\n    'Yes, there are several clinical trials on the use of stem cells for the treatment of cardiac (heart) disease.'],\n   'exact_answer': 'yes',\n   'concepts': ['http://www.nlm.nih.gov/cgi/mesh/2016/MB_cgi?field=uid&exact=Find+Exact+Term&term=D039902',\n    'http://www.nlm.nih.gov/cgi/mesh/2016/MB_cgi?field=uid&exact=Find+Exact+Term&term=D006331',\n    'http://www.nlm.nih.gov/cgi/mesh/2016/MB_cgi?field=uid&exact=Find+Exact+Term&term=D013234',\n    'http://www.disease-ontology.org/api/metadata/DOID:114'],\n   'type': 'yesno',\n   'id': '56f160a52ac5ed1459000013',\n   'snippets': [{'offsetInBeginSection': 0,\n     'offsetInEndSection': 242,\n     'text': 'Therapy with mesenchymal stem cells is one of the promising tools to improve outcomes after myocardial infarction. Adipose-derived stem cells (ASCs) are an ideal source of mesenchymal stem cells due to their abundance and ease of preparation.',\n     'beginSection': 'abstract',\n     'document': 'http://www.ncbi.nlm.nih.gov/pubmed/25205213',\n     'endSection': 'abstract'},\n    {'offsetInBeginSection': 759,\n     'offsetInEndSection': 866,\n     'text': 'Furthermore, several ongoing clinical trials using ASCs are producing promising results for heart diseases.',\n     'beginSection': 'abstract',\n     'document': 'http://www.ncbi.nlm.nih.gov/pubmed/25205213',\n     'endSection': 'abstract'},\n    {'offsetInBeginSection': 297,\n     'offsetInEndSection': 485,\n     'text': 'Among the cell types under investigation, adult mesenchymal stem cells are widely studied, and in early stage, clinical studies show promise for repair and regeneration of cardiac tissues.',\n     'beginSection': 'abstract',\n     'document': 'http://www.ncbi.nlm.nih.gov/pubmed/25858066',\n     'endSection': 'abstract'},\n    {'offsetInBeginSection': 816,\n     'offsetInEndSection': 1123,\n     'text': ' Accumulating data from preclinical and early phase clinical trials document their safety when delivered as either autologous or allogeneic forms in a range of cardiovascular diseases, but also importantly define parameters of clinical efficacy that justify further investigation in larger clinical trials. ',\n     'beginSection': 'abstract',\n     'document': 'http://www.ncbi.nlm.nih.gov/pubmed/25858066',\n     'endSection': 'abstract'},\n    {'offsetInBeginSection': 772,\n     'offsetInEndSection': 867,\n     'text': 'several ongoing clinical trials using ASCs are producing promising results for heart diseases. ',\n     'beginSection': 'abstract',\n     'document': 'http://www.ncbi.nlm.nih.gov/pubmed/25205213',\n     'endSection': 'abstract'},\n    {'offsetInBeginSection': 0,\n     'offsetInEndSection': 73,\n     'text': 'Clinical application of adult stem cells for therapy for cardiac disease.',\n     'beginSection': 'title',\n     'document': 'http://www.ncbi.nlm.nih.gov/pubmed/23773460',\n     'endSection': 'title'},\n    {'offsetInBeginSection': 99,\n     'offsetInEndSection': 712,\n     'text': 'Stem cell-based therapies have the potential to fundamentally transform the treatment of ischemic cardiac injury and heart failure by achieving what would have been unthinkable only a few years ago-the Holy Grail of myocardial regeneration. Recent therapeutic approaches involve bone marrow (BM)-derived mononuclear cells and their subsets such as mesenchymal stem/stromal cells (MSCs), endothelial progenitor cells as well as adipose tissue-derived MSCs, cardiac tissue-derived stem cells, and cell combinations. Clinical trials employing these cells have demonstrated that cellular therapy is feasible and safe.',\n     'beginSection': 'abstract',\n     'document': 'http://www.ncbi.nlm.nih.gov/pubmed/25145464',\n     'endSection': 'abstract'},\n    {'offsetInBeginSection': 817,\n     'offsetInEndSection': 1122,\n     'text': 'Accumulating data from preclinical and early phase clinical trials document their safety when delivered as either autologous or allogeneic forms in a range of cardiovascular diseases, but also importantly define parameters of clinical efficacy that justify further investigation in larger clinical trials.',\n     'beginSection': 'abstract',\n     'document': 'http://www.ncbi.nlm.nih.gov/pubmed/25858066',\n     'endSection': 'abstract'},\n    {'offsetInBeginSection': 211,\n     'offsetInEndSection': 486,\n     'text': 'se of stem and precursor cells as a therapeutic agent for chronically injured organs. Among the cell types under investigation, adult mesenchymal stem cells are widely studied, and in early stage, clinical studies show promise for repair and regeneration of cardiac tissues. ',\n     'beginSection': 'abstract',\n     'document': 'http://www.ncbi.nlm.nih.gov/pubmed/25858066',\n     'endSection': 'abstract'},\n    {'offsetInBeginSection': 0,\n     'offsetInEndSection': 146,\n     'text': 'Over the past 2 decades, there have been numerous stem cell studies focused on cardiac diseases, ranging from proof-of-concept to phase 2 trials. ',\n     'beginSection': 'abstract',\n     'document': 'http://www.ncbi.nlm.nih.gov/pubmed/25169179',\n     'endSection': 'abstract'},\n    {'offsetInBeginSection': 715,\n     'offsetInEndSection': 828,\n     'text': 'Small uncontrolled clinical trials have demonstrated cardiac stem cells as a treatment option for cardiomyopathy.',\n     'beginSection': 'abstract',\n     'document': 'http://www.ncbi.nlm.nih.gov/pubmed/17198039',\n     'endSection': 'abstract'},\n    {'offsetInBeginSection': 366,\n     'offsetInEndSection': 600,\n     'text': 'Stem cell populations are rapidly increasing, and we are still in the search of optimal cell types to use in clinical trials as bone marrow stem cells did not show significant improvement in cardiac function following transplantation.',\n     'beginSection': 'abstract',\n     'document': 'http://www.ncbi.nlm.nih.gov/pubmed/20560035',\n     'endSection': 'abstract'},\n    {'offsetInBeginSection': 1138,\n     'offsetInEndSection': 1329,\n     'text': 'Several clinical trials using adult stem cell have shown improvements in cardiac function, however, the mechanism of their action is unclear and widespread tissue regeneration is not evident.',\n     'beginSection': 'abstract',\n     'document': 'http://www.ncbi.nlm.nih.gov/pubmed/19022705',\n     'endSection': 'abstract'},\n    {'offsetInBeginSection': 1795,\n     'offsetInEndSection': 1933,\n     'text': 'As we await results from larger and more prolonged clinical trials, the science of stem cell therapy in cardiac disease keeps progressing.',\n     'beginSection': 'abstract',\n     'document': 'http://www.ncbi.nlm.nih.gov/pubmed/19804333',\n     'endSection': 'abstract'},\n    {'offsetInBeginSection': 0,\n     'offsetInEndSection': 83,\n     'text': 'Stem cell therapy for treatment of cardiac disease has shown therapeutic potential.',\n     'beginSection': 'abstract',\n     'document': 'http://www.ncbi.nlm.nih.gov/pubmed/16969166',\n     'endSection': 'abstract'},\n    {'offsetInBeginSection': 1515,\n     'offsetInEndSection': 1617,\n     'text': 'It should be noted that stem cell therapy is not limited to the treatment of ischemic cardiac disease.',\n     'beginSection': 'abstract',\n     'document': 'http://www.ncbi.nlm.nih.gov/pubmed/14647535',\n     'endSection': 'abstract'},\n    {'offsetInBeginSection': 0,\n     'offsetInEndSection': 145,\n     'text': 'Over the past 2 decades, there have been numerous stem cell studies focused on cardiac diseases, ranging from proof-of-concept to phase 2 trials.',\n     'beginSection': 'abstract',\n     'document': 'http://www.ncbi.nlm.nih.gov/pubmed/25169179',\n     'endSection': 'abstract'},\n    {'offsetInBeginSection': 288,\n     'offsetInEndSection': 431,\n     'text': 'This series of papers focuses on the legacy of these studies and the outlook for future treatment of cardiac diseases with stem cell therapies.',\n     'beginSection': 'abstract',\n     'document': 'http://www.ncbi.nlm.nih.gov/pubmed/25169179',\n     'endSection': 'abstract'},\n    {'offsetInBeginSection': 0,\n     'offsetInEndSection': 126,\n     'text': 'Cell transplantation to repair or regenerate injured myocardium is a new frontier in the treatment of cardiovascular disease. ',\n     'beginSection': 'abstract',\n     'document': 'http://www.ncbi.nlm.nih.gov/pubmed/17888423',\n     'endSection': 'abstract'},\n    {'offsetInBeginSection': 54,\n     'offsetInEndSection': 411,\n     'text': 'Current therapies only delay progression of the cardiac disease or replace the diseased heart with cardiac transplantation. Stem cells represent a recently discovered novel approach to the treatment of cardiac failure that may facilitate the replacement of diseased cardiac tissue and subsequently lead to improved cardiac function and cardiac regeneration.',\n     'beginSection': 'abstract',\n     'document': 'http://www.ncbi.nlm.nih.gov/pubmed/19857353',\n     'endSection': 'abstract'},\n    {'offsetInBeginSection': 0,\n     'offsetInEndSection': 290,\n     'text': ' Over the past 2 decades, there have been numerous stem cell studies focused on cardiac diseases, ranging from proof-of-concept to phase 2 trials. This series of papers focuses on the legacy of these studies and the outlook for future treatment of cardiac diseases with stem cell therapies.',\n     'beginSection': 'abstract',\n     'document': 'http://www.ncbi.nlm.nih.gov/pubmed/25169179',\n     'endSection': 'abstract'},\n    {'offsetInBeginSection': 0,\n     'offsetInEndSection': 84,\n     'text': 'Stem cell therapy for treatment of cardiac disease has shown therapeutic potential.',\n     'beginSection': 'abstract',\n     'document': 'http://www.ncbi.nlm.nih.gov/pubmed/16969166',\n     'endSection': 'abstract'},\n    {'offsetInBeginSection': 0,\n     'offsetInEndSection': 290,\n     'text': 'Over the past 2 decades, there have been numerous stem cell studies focused on cardiac diseases, ranging from proof-of-concept to phase 2 trials. This series of papers focuses on the legacy of these studies and the outlook for future treatment of cardiac diseases with stem cell therapies.',\n     'beginSection': 'abstract',\n     'document': 'http://www.ncbi.nlm.nih.gov/pubmed/25169179',\n     'endSection': 'abstract'},\n    {'offsetInBeginSection': 1426,\n     'offsetInEndSection': 1626,\n     'text': 'It should be noted that stem cell therapy is not limited to the treatment of ischemic cardiac disease. Non-ischemic cardiomyopathy, peripheral vascular disease, and aging may be treated by stem cells.',\n     'beginSection': 'abstract',\n     'document': 'http://www.ncbi.nlm.nih.gov/pubmed/14647535',\n     'endSection': 'abstract'},\n    {'offsetInBeginSection': 641,\n     'offsetInEndSection': 794,\n     'text': ' Recent clinical trials have achieved favorable initial endpoints with improvements in cardiac function and clinical symptoms following cellular therapy.',\n     'beginSection': 'abstract',\n     'document': 'http://www.ncbi.nlm.nih.gov/pubmed/25984329',\n     'endSection': 'abstract'},\n    {'offsetInBeginSection': 476,\n     'offsetInEndSection': 716,\n     'text': 'we consider how cardiac stem cell biology has led us into clinical trials, and we suggest that achieving true cardiac regeneration in patients may ultimately require resolution of critical controversies in experimental cardiac regeneration.',\n     'beginSection': 'abstract',\n     'document': 'http://www.ncbi.nlm.nih.gov/pubmed/23746978',\n     'endSection': 'abstract'},\n    {'offsetInBeginSection': 441,\n     'offsetInEndSection': 707,\n     'text': 'Cell-based therapies and tissue engineering provide new promising platforms to develop upcoming therapeutic options. Initial clinical trials were able to generate promising results. A variety of different stem cell types have been used for the clinical application. ',\n     'beginSection': 'abstract',\n     'document': 'http://www.ncbi.nlm.nih.gov/pubmed/23773460',\n     'endSection': 'abstract'},\n    {'offsetInBeginSection': 161,\n     'offsetInEndSection': 401,\n     'text': ' Insights gained from clinical trials of adult stem cells, together with fundamental scientific advances in cardiac stem cell and regenerative biology, are beginning to yield potential new targets and strategies for regenerative therapies. ',\n     'beginSection': 'abstract',\n     'document': 'http://www.ncbi.nlm.nih.gov/pubmed/22405796',\n     'endSection': 'abstract'},\n    {'offsetInBeginSection': 289,\n     'offsetInEndSection': 494,\n     'text': 'Early animal trials have demonstrated the ability to improve cardiac function by transfer of HSCs into the myocardium, and early human studies have demonstrated the feasibility and safety of this approach.',\n     'beginSection': 'abstract',\n     'document': 'http://www.ncbi.nlm.nih.gov/pubmed/21749886',\n     'endSection': 'abstract'}]},\n  {'body': 'Is DNA methylation an epigenetic modification of chromatin related to gene expression?',\n   'documents': ['http://www.ncbi.nlm.nih.gov/pubmed/25512710',\n    'http://www.ncbi.nlm.nih.gov/pubmed/25514241',\n    'http://www.ncbi.nlm.nih.gov/pubmed/25534027',\n    'http://www.ncbi.nlm.nih.gov/pubmed/22359296',\n    'http://www.ncbi.nlm.nih.gov/pubmed/22078060',\n    'http://www.ncbi.nlm.nih.gov/pubmed/25437055',\n    'http://www.ncbi.nlm.nih.gov/pubmed/25531272',\n    'http://www.ncbi.nlm.nih.gov/pubmed/22922032',\n    'http://www.ncbi.nlm.nih.gov/pubmed/23604474',\n    'http://www.ncbi.nlm.nih.gov/pubmed/22992936'],\n   'ideal_answer': ['Epigenetic changes such as DNA methylation alter gene expression at the level of transcription by upregulating, downregulating, or silencing genes completely.'],\n   'exact_answer': 'yes',\n   'concepts': ['http://amigo.geneontology.org/cgi-bin/amigo/term_details?term=GO:0010467',\n    'http://amigo.geneontology.org/cgi-bin/amigo/term_details?term=GO:0006306',\n    'http://amigo.geneontology.org/cgi-bin/amigo/term_details?term=GO:0000785'],\n   'type': 'yesno',\n   'id': '54d9f7894b1fd0d33c00000a',\n   'snippets': [{'offsetInBeginSection': 21,\n     'offsetInEndSection': 164,\n     'text': 'DNA methylation is a chemical modification of DNA involved in the regulation of gene expression by controlling the access to the DNA sequence. ',\n     'beginSection': 'abstract',\n     'document': 'http://www.ncbi.nlm.nih.gov/pubmed/25531272',\n     'endSection': 'abstract'},\n    {'offsetInBeginSection': 12,\n     'offsetInEndSection': 163,\n     'text': 'Epigenetic marks such as DNA methylation play important biological roles in gene expression regulation and cellular differentiation during development.',\n     'beginSection': 'abstract',\n     'document': 'http://www.ncbi.nlm.nih.gov/pubmed/25534027',\n     'endSection': 'abstract'},\n    {'offsetInBeginSection': 0,\n     'offsetInEndSection': 196,\n     'text': 'DNA methylation patterns are characterized by highly conserved developmental programs, but allow for divergent gene expression resulting from stochastic epigenetic drift or divergent environments.',\n     'beginSection': 'abstract',\n     'document': 'http://www.ncbi.nlm.nih.gov/pubmed/25437055',\n     'endSection': 'abstract'},\n    {'offsetInBeginSection': 0,\n     'offsetInEndSection': 76,\n     'text': 'DNA methylation plays a critical role in the regulation of gene expression. ',\n     'beginSection': 'abstract',\n     'document': 'http://www.ncbi.nlm.nih.gov/pubmed/25514241',\n     'endSection': 'abstract'},\n    {'offsetInBeginSection': 0,\n     'offsetInEndSection': 198,\n     'text': 'Epigenetic changes such as DNA methylation and histone methylation and acetylation alter gene expression at the level of transcription by upregulating, downregulating, or silencing genes completely.',\n     'beginSection': 'abstract',\n     'document': 'http://www.ncbi.nlm.nih.gov/pubmed/25512710',\n     'endSection': 'abstract'},\n    {'offsetInBeginSection': 199,\n     'offsetInEndSection': 358,\n     'text': 'Dysregulation of epigenetic events can be pathological, leading to cardiovascular disease, neurological disorders, metabolic disorders, and cancer development.',\n     'beginSection': 'abstract',\n     'document': 'http://www.ncbi.nlm.nih.gov/pubmed/25512710',\n     'endSection': 'abstract'},\n    {'offsetInBeginSection': 0,\n     'offsetInEndSection': 122,\n     'text': 'DNA methylation is a pervasive epigenetic DNA modification that strongly affects chromatin regulation and gene expression.',\n     'beginSection': 'abstract',\n     'document': 'http://www.ncbi.nlm.nih.gov/pubmed/22922032',\n     'endSection': 'abstract'},\n    {'offsetInBeginSection': 0,\n     'offsetInEndSection': 138,\n     'text': 'Epigenetic control, which includes DNA methylation and histone modifications, leads to chromatin remodeling and regulated gene expression.',\n     'beginSection': 'abstract',\n     'document': 'http://www.ncbi.nlm.nih.gov/pubmed/23604474',\n     'endSection': 'abstract'},\n    {'offsetInBeginSection': 0,\n     'offsetInEndSection': 240,\n     'text': 'Epigenetic modifications on the DNA sequence (DNA methylation) or on chromatin-associated proteins (i.e., histones) comprise the \"cellular epigenome\"; together these modifications play an important role in the regulation of gene expression.',\n     'beginSection': 'abstract',\n     'document': 'http://www.ncbi.nlm.nih.gov/pubmed/22992936',\n     'endSection': 'abstract'},\n    {'offsetInBeginSection': 136,\n     'offsetInEndSection': 426,\n     'text': 'Epigenetics is a process involved in gene regulation, mediated via DNA methylation, histone modification, chromatin remodeling, and functional noncoding RNAs, which influences the accessibility of the underlying DNA to transcriptional regulatory factors that activate or repress expression.',\n     'beginSection': 'abstract',\n     'document': 'http://www.ncbi.nlm.nih.gov/pubmed/22359296',\n     'endSection': 'abstract'},\n    {'offsetInBeginSection': 101,\n     'offsetInEndSection': 322,\n     'text': 'Significant progress has been made in the basic understanding of how various epigenetic changes such as DNA methylation, histone modification, miRNA expression, and higher order chromatin structure affect gene expression.',\n     'beginSection': 'abstract',\n     'document': 'http://www.ncbi.nlm.nih.gov/pubmed/22078060',\n     'endSection': 'abstract'}]},\n  ...]}"
     },
     "metadata": {},
     "execution_count": 24
    }
   ],
   "source": [
    "training"
   ]
  },
  {
   "cell_type": "code",
   "execution_count": 4,
   "metadata": {},
   "outputs": [],
   "source": [
    "# Preprocessing"
   ]
  },
  {
   "cell_type": "code",
   "execution_count": 3,
   "metadata": {},
   "outputs": [],
   "source": [
    "data = load_data(\"../../data/training5b.json\", \"yesno\", False)"
   ]
  },
  {
   "cell_type": "code",
   "execution_count": 4,
   "metadata": {},
   "outputs": [
    {
     "output_type": "execute_result",
     "data": {
      "text/plain": "['Using expression analysis, we identify three genes that are transcriptionally regulated by HLH-2: the protocadherin cdh-3, and two genes encoding secreted extracellular matrix proteins, mig-6/papilin and him-4/hemicentin. ',\n 'We found that mig-6 encodes long (MIG-6L) and short (MIG-6S) isoforms of the extracellular matrix protein papilin, each required for distinct aspects of DTC migration. Both MIG-6 isoforms have a predicted N-terminal papilin cassette',\n 'apilins are homologous, secreted extracellular matrix proteins which share a common order of protein domains. ',\n 'The TSR superfamily is a diverse family of extracellular matrix and transmembrane proteins, many of which have functions related to regulating matrix organization, cell-cell interactions and cell guidance. This review samples some of the contemporary literature regarding TSR superfamily members (e.g. F-spondin, UNC-5, ADAMTS, papilin, and TRAP) where specific functions are assigned to the TSR domains.',\n 'Papilins are extracellular matrix proteins ',\n 'Papilin is an extracellular matrix glycoprotein ',\n ' Collagen IV, laminin, glutactin, papilin, and other extracellular matrix proteins were made primarily by hemocytes and were secreted into the medium. ',\n 'A sulfated glycoprotein was isolated from the culture media of Drosophila Kc cells and named papilin.']"
     },
     "metadata": {},
     "execution_count": 4
    }
   ],
   "source": [
    "data[0][3]"
   ]
  },
  {
   "cell_type": "code",
   "execution_count": 5,
   "metadata": {
    "tags": []
   },
   "outputs": [
    {
     "output_type": "stream",
     "name": "stderr",
     "text": "[nltk_data] Downloading package stopwords to\n[nltk_data]     C:\\Users\\Francesco\\AppData\\Roaming\\nltk_data...\n[nltk_data]   Package stopwords is already up-to-date!\n"
    },
    {
     "output_type": "execute_result",
     "data": {
      "text/plain": "['using expression analysis identify three genes transcriptionally regulated hlh 2 protocadherin cdh 3 two genes encoding secreted extracellular matrix proteins mig 6 papilin 4 hemicentin',\n 'found mig 6 encodes long mig 6l short mig 6s isoforms extracellular matrix protein papilin required distinct aspects dtc migration mig 6 isoforms predicted n terminal papilin cassette',\n 'apilins homologous secreted extracellular matrix proteins share common order protein domains',\n 'tsr superfamily diverse family extracellular matrix transmembrane proteins many functions related regulating matrix organization cell cell interactions cell guidance review samples contemporary literature regarding tsr superfamily members e g f spondin unc 5 adamts papilin trap specific functions assigned tsr domains',\n 'papilins extracellular matrix proteins',\n 'papilin extracellular matrix glycoprotein',\n 'collagen iv laminin glutactin papilin extracellular matrix proteins made primarily hemocytes secreted medium',\n 'sulfated glycoprotein isolated culture media drosophila kc cells named papilin']"
     },
     "metadata": {},
     "execution_count": 5
    }
   ],
   "source": [
    "preProcess(data[0][3])"
   ]
  },
  {
   "cell_type": "code",
   "execution_count": null,
   "metadata": {},
   "outputs": [],
   "source": []
  }
 ],
 "metadata": {
  "language_info": {
   "codemirror_mode": {
    "name": "ipython",
    "version": 3
   },
   "file_extension": ".py",
   "mimetype": "text/x-python",
   "name": "python",
   "nbconvert_exporter": "python",
   "pygments_lexer": "ipython3",
   "version": "3.7.7-final"
  },
  "orig_nbformat": 2,
  "kernelspec": {
   "name": "python37764bit7dc7045a2a29459ba0a204719c1a3f71",
   "display_name": "Python 3.7.7 64-bit"
  }
 },
 "nbformat": 4,
 "nbformat_minor": 2
}