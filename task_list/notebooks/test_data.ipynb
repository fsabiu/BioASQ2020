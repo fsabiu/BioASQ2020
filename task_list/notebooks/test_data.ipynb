{
 "cells": [
  {
   "cell_type": "code",
   "execution_count": 1,
   "metadata": {},
   "outputs": [],
   "source": [
    "import json\n",
    "from flair.data import Sentence\n",
    "import progressbar\n",
    "import pickle\n",
    "import sys\n",
    "import csv\n",
    "\n",
    "path_dir = \"D:\\\\Drive\\\\HumanLanguageTechnologies\\\\BioASQ2020\\\\utils\"\n",
    "\n",
    "if path_dir not in sys.path:\n",
    "    sys.path.append(path_dir)"
   ]
  },
  {
   "cell_type": "code",
   "execution_count": 2,
   "metadata": {},
   "outputs": [],
   "source": [
    "from data import load_data, yesNoAugmentation, load_data_list, preProcess"
   ]
  },
  {
   "cell_type": "markdown",
   "metadata": {},
   "source": [
    "## Loading YesNo questions"
   ]
  },
  {
   "cell_type": "markdown",
   "metadata": {},
   "source": [
    "### Old method"
   ]
  },
  {
   "cell_type": "code",
   "execution_count": 3,
   "metadata": {},
   "outputs": [
    {
     "output_type": "execute_result",
     "data": {
      "text/plain": "['List signaling molecules (ligands) that interact with the receptor EGFR?',\n [['epidermal growth factor'],\n  ['betacellulin'],\n  ['epiregulin'],\n  ['heparin-binding epidermal growth factor'],\n  ['transforming growth factor-Î±'],\n  ['amphiregulin'],\n  ['epigen']],\n ['the epidermal growth factor receptor (EGFR) ligands, such as epidermal growth factor (EGF) and amphiregulin (AREG)',\n  ' EGFR ligands epidermal growth factor (EGF), amphiregulin (AREG) and transforming growth factor alpha (TGFÎ±)',\n  ' EGFR and its ligand EGF ',\n  'Among EGFR ligands, heparin-binding EGF-like growth factor, TGF-Î± and Betacellulin (BTC) are produced in the tumor microenvironment of FDC-S at RNA level. ',\n  '. Plasma amphiregulin (AR), epidermal growth factor (EGF), transforming growth factor-Î±, and heparin binding-EGF were assessed by ELISA in 45 chemorefractory mCRC patients',\n  'Among EGFR ligands, heparin-binding epidermal growth factor (HB-EGF)',\n  ' Of the six known EGFR ligands, transforming growth factor alpha (TGFÎ±) was expressed more highly in triple-negative breast tumors than in tumors of other subtypes.',\n  'the 7 known EGFR ligands (EGF, betacellulin, epiregulin, heparin-binding EGF, transforming growth factor-Î± [TGF-Î±], amphiregulin, and epigen) ',\n  'EGFR ligands based on the two affinity classes: EGF>HB-EGF>TGF-Î±>BTC>EPR>EPG>AR',\n  'In this article, however, we demonstrate that PEPD directly binds to and activates epidermal growth factor receptor (EGFR),',\n  'four EGFR ligands (AR, HB-EGF, TGF-Î±, and EREG) ',\n  'Epidermal growth factor (EGF) family peptides are ligands for the EGF receptor (EGFR). ',\n  'oluble amphiregulin (AR), transforming growth factor alpha (TGFÎ±), neuregulin 2 beta, and epigen stimulate greater EGFR coupling to cell proliferation and DNA synthesis than do EGF, betacellulin, heparin-binding EGF-like growth factor, and epiregulin',\n  'Here, we demonstrate that histamine releases 2 EGFR ligands, amphiregulin and heparin-binding epidermal growth factor-like growth factor (HB-EGF), from airway epithelial cells.',\n  'mammalian EGFR ligands including EGF, TGF-Î± (TGFÎ±), amphiregulin (AREG), heparin-binding EGF-like growth factor (HB-EGF), betacellulin, epiregulin, and epigen.']]"
     },
     "metadata": {},
     "execution_count": 3
    }
   ],
   "source": [
    "lists = load_data_list(\"../../data/training5b.json\")\n",
    "lists[0]"
   ]
  },
  {
   "cell_type": "markdown",
   "metadata": {},
   "source": [
    "### New method"
   ]
  },
  {
   "cell_type": "code",
   "execution_count": 4,
   "metadata": {},
   "outputs": [
    {
     "output_type": "execute_result",
     "data": {
      "text/plain": "['List signaling molecules (ligands) that interact with the receptor EGFR?',\n [['epidermal growth factor'],\n  ['betacellulin'],\n  ['epiregulin'],\n  ['heparin-binding epidermal growth factor'],\n  ['transforming growth factor-Î±'],\n  ['amphiregulin'],\n  ['epigen']],\n ['the epidermal growth factor receptor (EGFR) ligands, such as epidermal growth factor (EGF) and amphiregulin (AREG)',\n  ' EGFR ligands epidermal growth factor (EGF), amphiregulin (AREG) and transforming growth factor alpha (TGFÎ±)',\n  ' EGFR and its ligand EGF ',\n  'Among EGFR ligands, heparin-binding EGF-like growth factor, TGF-Î± and Betacellulin (BTC) are produced in the tumor microenvironment of FDC-S at RNA level. ',\n  '. Plasma amphiregulin (AR), epidermal growth factor (EGF), transforming growth factor-Î±, and heparin binding-EGF were assessed by ELISA in 45 chemorefractory mCRC patients',\n  'Among EGFR ligands, heparin-binding epidermal growth factor (HB-EGF)',\n  ' Of the six known EGFR ligands, transforming growth factor alpha (TGFÎ±) was expressed more highly in triple-negative breast tumors than in tumors of other subtypes.',\n  'the 7 known EGFR ligands (EGF, betacellulin, epiregulin, heparin-binding EGF, transforming growth factor-Î± [TGF-Î±], amphiregulin, and epigen) ',\n  'EGFR ligands based on the two affinity classes: EGF>HB-EGF>TGF-Î±>BTC>EPR>EPG>AR',\n  'In this article, however, we demonstrate that PEPD directly binds to and activates epidermal growth factor receptor (EGFR),',\n  'four EGFR ligands (AR, HB-EGF, TGF-Î±, and EREG) ',\n  'Epidermal growth factor (EGF) family peptides are ligands for the EGF receptor (EGFR). ',\n  'oluble amphiregulin (AR), transforming growth factor alpha (TGFÎ±), neuregulin 2 beta, and epigen stimulate greater EGFR coupling to cell proliferation and DNA synthesis than do EGF, betacellulin, heparin-binding EGF-like growth factor, and epiregulin',\n  'Here, we demonstrate that histamine releases 2 EGFR ligands, amphiregulin and heparin-binding epidermal growth factor-like growth factor (HB-EGF), from airway epithelial cells.',\n  'mammalian EGFR ligands including EGF, TGF-Î± (TGFÎ±), amphiregulin (AREG), heparin-binding EGF-like growth factor (HB-EGF), betacellulin, epiregulin, and epigen.']]"
     },
     "metadata": {},
     "execution_count": 4
    }
   ],
   "source": [
    "lists = load_data(\"../../data/training5b.json\", \"list\", False)\n",
    "lists[0]"
   ]
  },
  {
   "cell_type": "code",
   "execution_count": 5,
   "metadata": {},
   "outputs": [
    {
     "output_type": "execute_result",
     "data": {
      "text/plain": "True"
     },
     "metadata": {},
     "execution_count": 5
    }
   ],
   "source": [
    "yesno = load_data(\"../../data/training8b.json\", \"yesno\", False)\n",
    "yes = [q for q in yesno if q[1] == \"yes\"]\n",
    "no = [q for q in yesno if q[1] == \"no\"]\n",
    "\n",
    "len(yes) + len(no) == len(yesno)"
   ]
  },
  {
   "cell_type": "code",
   "execution_count": 6,
   "metadata": {},
   "outputs": [
    {
     "output_type": "execute_result",
     "data": {
      "text/plain": "'yes'"
     },
     "metadata": {},
     "execution_count": 6
    }
   ],
   "source": [
    "yesno[0][1]"
   ]
  },
  {
   "cell_type": "code",
   "execution_count": 7,
   "metadata": {},
   "outputs": [
    {
     "output_type": "execute_result",
     "data": {
      "text/plain": "1900"
     },
     "metadata": {},
     "execution_count": 7
    }
   ],
   "source": [
    "moreYesNo = yesNoAugmentation('no', 1900, True)\n",
    "len(moreYesNo)"
   ]
  },
  {
   "cell_type": "code",
   "execution_count": 8,
   "metadata": {},
   "outputs": [
    {
     "output_type": "execute_result",
     "data": {
      "text/plain": "182"
     },
     "metadata": {},
     "execution_count": 8
    }
   ],
   "source": [
    "moreYesNo = yesNoAugmentation('no', -1, False)\n",
    "len(moreYesNo)"
   ]
  },
  {
   "cell_type": "code",
   "execution_count": 9,
   "metadata": {},
   "outputs": [
    {
     "output_type": "execute_result",
     "data": {
      "text/plain": "3351"
     },
     "metadata": {},
     "execution_count": 9
    }
   ],
   "source": [
    "moreYesNoSingleSnippets = yesNoAugmentation('no', -1, True)\n",
    "len(moreYesNoSingleSnippets)"
   ]
  },
  {
   "cell_type": "code",
   "execution_count": 11,
   "metadata": {},
   "outputs": [
    {
     "output_type": "execute_result",
     "data": {
      "text/plain": "['List signaling molecules (ligands) that interact with the receptor EGFR?',\n [['epidermal growth factor'],\n  ['betacellulin'],\n  ['epiregulin'],\n  ['heparin-binding epidermal growth factor'],\n  ['transforming growth factor-Î±'],\n  ['amphiregulin'],\n  ['epigen']],\n 'the epidermal growth factor receptor (EGFR) ligands, such as epidermal growth factor (EGF) and amphiregulin (AREG)']"
     },
     "metadata": {},
     "execution_count": 11
    }
   ],
   "source": [
    "load_data(\"../../data/training5b.json\", \"list\", True)[0]"
   ]
  },
  {
   "cell_type": "code",
   "execution_count": 4,
   "metadata": {},
   "outputs": [],
   "source": [
    "# Preprocessing"
   ]
  },
  {
   "cell_type": "code",
   "execution_count": 16,
   "metadata": {},
   "outputs": [
    {
     "output_type": "execute_result",
     "data": {
      "text/plain": "['Is the protein Papilin secreted?',\n 'yes',\n ['Using expression analysis, we identify three genes that are transcriptionally regulated by HLH-2: the protocadherin cdh-3, and two genes encoding secreted extracellular matrix proteins, mig-6/papilin and him-4/hemicentin. ',\n  'We found that mig-6 encodes long (MIG-6L) and short (MIG-6S) isoforms of the extracellular matrix protein papilin, each required for distinct aspects of DTC migration. Both MIG-6 isoforms have a predicted N-terminal papilin cassette',\n  'apilins are homologous, secreted extracellular matrix proteins which share a common order of protein domains. ',\n  'The TSR superfamily is a diverse family of extracellular matrix and transmembrane proteins, many of which have functions related to regulating matrix organization, cell-cell interactions and cell guidance. This review samples some of the contemporary literature regarding TSR superfamily members (e.g. F-spondin, UNC-5, ADAMTS, papilin, and TRAP) where specific functions are assigned to the TSR domains.',\n  'Papilins are extracellular matrix proteins ',\n  'Papilin is an extracellular matrix glycoprotein ',\n  ' Collagen IV, laminin, glutactin, papilin, and other extracellular matrix proteins were made primarily by hemocytes and were secreted into the medium. ',\n  'A sulfated glycoprotein was isolated from the culture media of Drosophila Kc cells and named papilin.']]"
     },
     "metadata": {},
     "execution_count": 16
    }
   ],
   "source": [
    "data = load_data(\"../../data/training5b.json\", \"yesno\", False)\n",
    "data[0]"
   ]
  },
  {
   "cell_type": "code",
   "execution_count": 18,
   "metadata": {
    "tags": []
   },
   "outputs": [
    {
     "output_type": "stream",
     "name": "stderr",
     "text": "[nltk_data] Downloading package stopwords to\n[nltk_data]     C:\\Users\\Francesco\\AppData\\Roaming\\nltk_data...\n[nltk_data]   Package stopwords is already up-to-date!\n"
    },
    {
     "output_type": "execute_result",
     "data": {
      "text/plain": "['using expression analysis identify three genes transcriptionally regulated hlh 2 protocadherin cdh 3 two genes encoding secreted extracellular matrix proteins mig 6 papilin 4 hemicentin',\n 'found mig 6 encodes long mig 6l short mig 6s isoforms extracellular matrix protein papilin required distinct aspects dtc migration mig 6 isoforms predicted n terminal papilin cassette',\n 'apilins homologous secreted extracellular matrix proteins share common order protein domains',\n 'tsr superfamily diverse family extracellular matrix transmembrane proteins many functions related regulating matrix organization cell cell interactions cell guidance review samples contemporary literature regarding tsr superfamily members e g f spondin unc 5 adamts papilin trap specific functions assigned tsr domains',\n 'papilins extracellular matrix proteins',\n 'papilin extracellular matrix glycoprotein',\n 'collagen iv laminin glutactin papilin extracellular matrix proteins made primarily hemocytes secreted medium',\n 'sulfated glycoprotein isolated culture media drosophila kc cells named papilin']"
     },
     "metadata": {},
     "execution_count": 18
    }
   ],
   "source": [
    "preProcess(data[0][2])"
   ]
  },
  {
   "cell_type": "code",
   "execution_count": null,
   "metadata": {},
   "outputs": [],
   "source": []
  }
 ],
 "metadata": {
  "language_info": {
   "codemirror_mode": {
    "name": "ipython",
    "version": 3
   },
   "file_extension": ".py",
   "mimetype": "text/x-python",
   "name": "python",
   "nbconvert_exporter": "python",
   "pygments_lexer": "ipython3",
   "version": "3.7.7-final"
  },
  "orig_nbformat": 2,
  "kernelspec": {
   "name": "python37764bit7dc7045a2a29459ba0a204719c1a3f71",
   "display_name": "Python 3.7.7 64-bit"
  }
 },
 "nbformat": 4,
 "nbformat_minor": 2
}